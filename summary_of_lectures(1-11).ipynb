{
 "cells": [
  {
   "cell_type": "markdown",
   "metadata": {
    "slideshow": {
     "slide_type": "slide"
    }
   },
   "source": [
    "# What we Learned in 2019?"
   ]
  },
  {
   "cell_type": "markdown",
   "metadata": {
    "slideshow": {
     "slide_type": "slide"
    }
   },
   "source": [
    "## Introduction to Linear Algebra (2 lectures)"
   ]
  },
  {
   "cell_type": "markdown",
   "metadata": {
    "slideshow": {
     "slide_type": "subslide"
    }
   },
   "source": [
    "### Set theory"
   ]
  },
  {
   "cell_type": "markdown",
   "metadata": {
    "slideshow": {
     "slide_type": "subslide"
    }
   },
   "source": [
    "<img style=\"float: center;\" src=\"https://slideplayer.com/slide/4898856/16/images/18/A+U+B+A+or+B+A+%E2%88%A9+B+both+A+and+B+Intersection.jpg\" width=\"1200px\"/>"
   ]
  },
  {
   "cell_type": "markdown",
   "metadata": {
    "slideshow": {
     "slide_type": "subslide"
    }
   },
   "source": [
    "### Scalars, Vectors, Matrices, Tensors"
   ]
  },
  {
   "cell_type": "markdown",
   "metadata": {
    "slideshow": {
     "slide_type": "subslide"
    }
   },
   "source": [
    "<img style=\"float: center;\" src=\"https://res.cloudinary.com/practicaldev/image/fetch/s--oTgfo1EL--/c_limit%2Cf_auto%2Cfl_progressive%2Cq_auto%2Cw_880/https://raw.githubusercontent.com/adhiraiyan/DeepLearningWithTF2.0/master/notebooks/figures/fig0201a.png\" width=\"1200px\"/>"
   ]
  },
  {
   "cell_type": "markdown",
   "metadata": {
    "slideshow": {
     "slide_type": "subslide"
    }
   },
   "source": [
    "### Matrix Multiplication (Slow Version with naive For Loop)"
   ]
  },
  {
   "cell_type": "markdown",
   "metadata": {
    "slideshow": {
     "slide_type": "subslide"
    }
   },
   "source": [
    "<img style=\"float: center;\" src=\"https://thumbs.gfycat.com/FrenchDescriptiveFlyingfish-small.gif\" width=\"1200px\"/>"
   ]
  },
  {
   "cell_type": "markdown",
   "metadata": {
    "slideshow": {
     "slide_type": "subslide"
    }
   },
   "source": [
    "###  Matrix Multiplication  (Optimized Version with Vectorization)"
   ]
  },
  {
   "cell_type": "markdown",
   "metadata": {
    "slideshow": {
     "slide_type": "subslide"
    }
   },
   "source": [
    "<img style=\"float: center;\" src=\"https://thumbs.gfycat.com/PositiveExhaustedAmericangoldfinch-size_restricted.gif\" width=\"1200px\"/>"
   ]
  },
  {
   "cell_type": "markdown",
   "metadata": {
    "slideshow": {
     "slide_type": "subslide"
    }
   },
   "source": [
    "### Images as tensors and matrices"
   ]
  },
  {
   "cell_type": "markdown",
   "metadata": {
    "slideshow": {
     "slide_type": "subslide"
    }
   },
   "source": [
    "<img style=\"float: center;\" src=\"https://images.squarespace-cdn.com/content/v1/5c28a79ca9e0286061906e43/1548971303762-CKE6Q5C9P67BBU1U33WZ/ke17ZwdGBToddI8pDm48kDaKWgi9ZE4kr18JcIQXYDwUqsxRUqqbr1mOJYKfIPR7LoDQ9mXPOjoJoqy81S2I8N_N4V1vUb5AoIIIbLZhVYxCRW4BPu10St3TBAUQYVKcRyPfkO4oZUXpqbrxZOO_6kVHuFgmA3f3VYJqaerg3DGeGc_YQfS_CTc0ZE63H3jv/conv_rgb.png\" width=\"1200px\"/>"
   ]
  },
  {
   "cell_type": "markdown",
   "metadata": {
    "slideshow": {
     "slide_type": "subslide"
    }
   },
   "source": [
    "### Using Numpy"
   ]
  },
  {
   "cell_type": "markdown",
   "metadata": {
    "slideshow": {
     "slide_type": "subslide"
    }
   },
   "source": [
    "![title](https://upload.wikimedia.org/wikipedia/commons/thumb/1/1a/NumPy_logo.svg/1200px-NumPy_logo.svg.png)"
   ]
  },
  {
   "cell_type": "markdown",
   "metadata": {
    "slideshow": {
     "slide_type": "subslide"
    }
   },
   "source": [
    "### Vector space"
   ]
  },
  {
   "cell_type": "markdown",
   "metadata": {
    "slideshow": {
     "slide_type": "subslide"
    }
   },
   "source": [
    "![title](https://miro.medium.com/max/2800/1*jcbQilUu1iEGHuYQIcCFhQ.png)"
   ]
  },
  {
   "cell_type": "markdown",
   "metadata": {
    "slideshow": {
     "slide_type": "subslide"
    }
   },
   "source": [
    "### Matrix multiplication as linear transformation of space"
   ]
  },
  {
   "cell_type": "markdown",
   "metadata": {
    "slideshow": {
     "slide_type": "subslide"
    }
   },
   "source": [
    "<img style=\"float: center;\" src=\"https://thumbs.gfycat.com/TediousIllegalHanumanmonkey-small.gif\" width=\"1200px\"/>"
   ]
  },
  {
   "cell_type": "markdown",
   "metadata": {
    "slideshow": {
     "slide_type": "subslide"
    }
   },
   "source": [
    "### Eigenvalues and Eigenvectors"
   ]
  },
  {
   "cell_type": "markdown",
   "metadata": {
    "slideshow": {
     "slide_type": "subslide"
    }
   },
   "source": [
    "<img style=\"float: center;\" src=\"https://thumbs.gfycat.com/FluffyMiniatureBackswimmer-size_restricted.gif\" width=\"1200px\"/>"
   ]
  },
  {
   "cell_type": "markdown",
   "metadata": {
    "slideshow": {
     "slide_type": "subslide"
    }
   },
   "source": [
    "### Determinant as scaling factor"
   ]
  },
  {
   "cell_type": "markdown",
   "metadata": {
    "slideshow": {
     "slide_type": "subslide"
    }
   },
   "source": [
    "<img style=\"float: center;\" src=\"https://thumbs.gfycat.com/ChillySeparateIndianrockpython-size_restricted.gif\" width=\"1200px\"/>"
   ]
  },
  {
   "cell_type": "markdown",
   "metadata": {
    "slideshow": {
     "slide_type": "subslide"
    }
   },
   "source": [
    "### Matrix decompositions (SVD)"
   ]
  },
  {
   "cell_type": "markdown",
   "metadata": {
    "slideshow": {
     "slide_type": "subslide"
    }
   },
   "source": [
    "<img style=\"float: center;\" src=\"https://staging.njtrainingacademy.com/wp-content/uploads/2019/01/svd_heading_img.png\" width=\"1000px\"/>"
   ]
  },
  {
   "cell_type": "markdown",
   "metadata": {
    "slideshow": {
     "slide_type": "subslide"
    }
   },
   "source": [
    "### Image compression example using PCA"
   ]
  },
  {
   "cell_type": "markdown",
   "metadata": {
    "slideshow": {
     "slide_type": "subslide"
    }
   },
   "source": [
    "<img style=\"float: center;\" src=\"https://www.researchgate.net/profile/Marco_Querini/publication/280321395/figure/fig1/AS:284646140071936@1444876336120/Representing-a-face-as-a-linear-combination-of-eigenfaces-with-the-eigenfaces-method.png\" alt=\"Space Telescope Logo\" width=\"1500px\"/>"
   ]
  },
  {
   "cell_type": "markdown",
   "metadata": {
    "slideshow": {
     "slide_type": "slide"
    }
   },
   "source": [
    "## Introduction to Calculus (2 lectures)"
   ]
  },
  {
   "cell_type": "markdown",
   "metadata": {
    "slideshow": {
     "slide_type": "subslide"
    }
   },
   "source": [
    "### Metrics in Euclidean spaces"
   ]
  },
  {
   "cell_type": "markdown",
   "metadata": {
    "slideshow": {
     "slide_type": "subslide"
    }
   },
   "source": [
    "<img style=\"float: center;\" src=\"https://bigsnarf.files.wordpress.com/2012/03/distance.jpg\" alt=\"Space Telescope Logo\" width=\"1000px\"/>"
   ]
  },
  {
   "cell_type": "markdown",
   "metadata": {
    "slideshow": {
     "slide_type": "subslide"
    }
   },
   "source": [
    "### Extreme points"
   ]
  },
  {
   "cell_type": "markdown",
   "metadata": {
    "slideshow": {
     "slide_type": "subslide"
    }
   },
   "source": [
    "<img style=\"float: center;\" src=\"https://upload.wikimedia.org/wikipedia/commons/e/e3/Non-Convex_Objective_Function.gif\" alt=\"Space Telescope Logo\" width=\"1000px\"/>"
   ]
  },
  {
   "cell_type": "markdown",
   "metadata": {
    "slideshow": {
     "slide_type": "subslide"
    }
   },
   "source": [
    "### Gradient of function"
   ]
  },
  {
   "cell_type": "markdown",
   "metadata": {
    "slideshow": {
     "slide_type": "subslide"
    }
   },
   "source": [
    "<img style=\"float: center;\" src=\"https://i.stack.imgur.com/OI6Gy.gif\" alt=\"Space Telescope Logo\" width=\"1000px\"/>"
   ]
  },
  {
   "cell_type": "markdown",
   "metadata": {
    "slideshow": {
     "slide_type": "subslide"
    }
   },
   "source": [
    "### Reverse Mode differentiation and Gradient descent"
   ]
  },
  {
   "cell_type": "markdown",
   "metadata": {
    "slideshow": {
     "slide_type": "subslide"
    }
   },
   "source": [
    "<img style=\"float: center;\" src=\"https://mlfromscratch.com/content/images/2019/12/gradient-descent-optimized.gif\" alt=\"Space Telescope Logo\" width=\"1300px\"/>"
   ]
  },
  {
   "cell_type": "markdown",
   "metadata": {
    "slideshow": {
     "slide_type": "subslide"
    }
   },
   "source": [
    "### Gradient descent implementation using Numpy & Pytorch"
   ]
  },
  {
   "cell_type": "markdown",
   "metadata": {
    "slideshow": {
     "slide_type": "subslide"
    }
   },
   "source": [
    "![title](https://iaml.it/images/e/7/a/0/0/e7a00995064891fe7231d70ec8e7eb2b78eea20b-c2ujkgbviaaylf6.jpeg)"
   ]
  },
  {
   "cell_type": "markdown",
   "metadata": {
    "slideshow": {
     "slide_type": "slide"
    }
   },
   "source": [
    "## Introduction to Probability"
   ]
  },
  {
   "cell_type": "markdown",
   "metadata": {
    "slideshow": {
     "slide_type": "subslide"
    }
   },
   "source": [
    "### Probability and conditional probability"
   ]
  },
  {
   "cell_type": "markdown",
   "metadata": {
    "slideshow": {
     "slide_type": "subslide"
    }
   },
   "source": [
    "![title](https://i.ytimg.com/vi/H02B3aMNKzE/maxresdefault.jpg)"
   ]
  },
  {
   "cell_type": "markdown",
   "metadata": {
    "slideshow": {
     "slide_type": "subslide"
    }
   },
   "source": [
    "### Bayes’ theorem"
   ]
  },
  {
   "cell_type": "markdown",
   "metadata": {
    "slideshow": {
     "slide_type": "subslide"
    }
   },
   "source": [
    "![title](https://miro.medium.com/max/768/1*zPseemLGYHMS8M0phAhhoA.png)"
   ]
  },
  {
   "cell_type": "markdown",
   "metadata": {
    "slideshow": {
     "slide_type": "subslide"
    }
   },
   "source": [
    "### Expectation, variance, covariance"
   ]
  },
  {
   "cell_type": "markdown",
   "metadata": {
    "slideshow": {
     "slide_type": "subslide"
    }
   },
   "source": [
    "<img style=\"float: center;\" src=\"https://images.squarespace-cdn.com/content/v1/54e50c15e4b058fc6806d068/1424583067430-9FGSPN5QEMWSFHTBJBIN/ke17ZwdGBToddI8pDm48kFudF1WMv5_yboat0laVeH1Zw-zPPgdn4jUwVcJE1ZvWQUxwkmyExglNqGp0IvTJZamWLI2zvYWH8K3-s_4yszcp2ryTI0HqTOaaUohrI8PIk7bNhZ_LMVNnJlw8hf_hEdzLHiugbuXNhtkdaRrh4HY/random-variable-robot.png?format=1000w\" alt=\"Space Telescope Logo\" width=\"1300px\"/>"
   ]
  },
  {
   "cell_type": "markdown",
   "metadata": {
    "slideshow": {
     "slide_type": "subslide"
    }
   },
   "source": [
    "<img style=\"float: center;\" src=\"https://d1e4pidl3fu268.cloudfront.net/6a3ddec8-c5de-451b-8ae3-c8371c2a724f/Screenshot20190605at190108.crop_543x407_0,14.preview.png\" alt=\"Space Telescope Logo\" width=\"1000px\"/>"
   ]
  },
  {
   "cell_type": "markdown",
   "metadata": {
    "slideshow": {
     "slide_type": "subslide"
    }
   },
   "source": [
    "![title](https://i.stack.imgur.com/Kfmhn.png)"
   ]
  },
  {
   "cell_type": "markdown",
   "metadata": {
    "slideshow": {
     "slide_type": "subslide"
    }
   },
   "source": [
    "### Law of Large numbers"
   ]
  },
  {
   "cell_type": "markdown",
   "metadata": {
    "slideshow": {
     "slide_type": "subslide"
    }
   },
   "source": [
    "<img style=\"float: center;\" src=\"https://upload.wikimedia.org/wikipedia/commons/thumb/c/c9/Lawoflargenumbers.svg/400px-Lawoflargenumbers.svg.png\" alt=\"Space Telescope Logo\" width=\"1000px\"/>"
   ]
  },
  {
   "cell_type": "markdown",
   "metadata": {
    "slideshow": {
     "slide_type": "slide"
    }
   },
   "source": [
    "## Introduction to Statistics & Information Theory"
   ]
  },
  {
   "cell_type": "markdown",
   "metadata": {
    "slideshow": {
     "slide_type": "subslide"
    }
   },
   "source": [
    "### Probability vs statistics"
   ]
  },
  {
   "cell_type": "markdown",
   "metadata": {
    "slideshow": {
     "slide_type": "subslide"
    }
   },
   "source": [
    "<img style=\"float: center;\" src=\"https://online.stat.psu.edu/stat504/sites/onlinecourses.science.psu.edu.stat504/files/lesson10/04r_image_01/index.gif\" alt=\"Space Telescope Logo\" width=\"1000px\"/>"
   ]
  },
  {
   "cell_type": "markdown",
   "metadata": {
    "slideshow": {
     "slide_type": "subslide"
    }
   },
   "source": [
    "### Gaussian distribution"
   ]
  },
  {
   "cell_type": "markdown",
   "metadata": {
    "slideshow": {
     "slide_type": "subslide"
    }
   },
   "source": [
    "<img style=\"float: center;\" src=\"https://3qeqpr26caki16dnhd19sv6by6v-wpengine.netdna-ssl.com/wp-content/uploads/2019/08/Line-Plot-of-Events-vs-Probability-or-the-Probability-Density-Function-for-the-Normal-Distribution.png\" width=\"1000px\"/>"
   ]
  },
  {
   "cell_type": "markdown",
   "metadata": {
    "slideshow": {
     "slide_type": "subslide"
    }
   },
   "source": [
    "<img style=\"float: center;\" src=\"https://66.media.tumblr.com/272953c7f09b1f614c07604931d3b158/tumblr_inline_nvieicnXZg1sdet6d_500.gifv\" width=\"1000px\"/>"
   ]
  },
  {
   "cell_type": "markdown",
   "metadata": {
    "slideshow": {
     "slide_type": "subslide"
    }
   },
   "source": [
    "### Entropy"
   ]
  },
  {
   "cell_type": "markdown",
   "metadata": {
    "slideshow": {
     "slide_type": "subslide"
    }
   },
   "source": [
    "<img style=\"float: center;\" src=\"https://www.researchgate.net/profile/Nicholas_Timme/publication/326073432/figure/download/fig2/AS:643024505827328@1530320397330/Example-entropy-calculations-A-Example-probability-distributions-for.png\" width=\"1000px\"/>"
   ]
  },
  {
   "cell_type": "markdown",
   "metadata": {
    "slideshow": {
     "slide_type": "subslide"
    }
   },
   "source": [
    "### Kullback–Leibler (KL) divergence"
   ]
  },
  {
   "cell_type": "markdown",
   "metadata": {
    "slideshow": {
     "slide_type": "subslide"
    }
   },
   "source": [
    "![title](https://www.researchgate.net/profile/Eric_Debreuve/publication/24280227/figure/fig3/AS:667779342544896@1536222410104/Order-of-the-arguments-of-the-Kullback-Leibler-divergence-zeroforcing-and-zero-avoiding.png)"
   ]
  },
  {
   "cell_type": "markdown",
   "metadata": {
    "slideshow": {
     "slide_type": "slide"
    }
   },
   "source": [
    "## Introduction to Machine Learning"
   ]
  },
  {
   "cell_type": "markdown",
   "metadata": {
    "slideshow": {
     "slide_type": "subslide"
    }
   },
   "source": [
    "### What is ML?"
   ]
  },
  {
   "cell_type": "markdown",
   "metadata": {
    "slideshow": {
     "slide_type": "subslide"
    }
   },
   "source": [
    "![title](https://d1m75rqqgidzqn.cloudfront.net/2019/10/What-is-Machine-Learning-Machine-learning-model-vs-traditional-model.jpg)"
   ]
  },
  {
   "cell_type": "markdown",
   "metadata": {
    "slideshow": {
     "slide_type": "subslide"
    }
   },
   "source": [
    "### Relations to other fields (Maths, CS, Business, data mining, optimization, etc)"
   ]
  },
  {
   "cell_type": "markdown",
   "metadata": {
    "slideshow": {
     "slide_type": "subslide"
    }
   },
   "source": [
    "![title](https://i1.wp.com/thedatascientist.com/wp-content/uploads/2019/03/data_science_venn_diagram.png?fit=988%2C912&ssl=1)"
   ]
  },
  {
   "cell_type": "markdown",
   "metadata": {
    "slideshow": {
     "slide_type": "subslide"
    }
   },
   "source": [
    "### 3 types of algorithms in ML (Supervised, Unsupervised, Reinforcement)"
   ]
  },
  {
   "cell_type": "markdown",
   "metadata": {
    "slideshow": {
     "slide_type": "subslide"
    }
   },
   "source": [
    "<img style=\"float: center;\" src=\"https://miro.medium.com/max/2796/1*FUZS9K4JPqzfXDcC83BQTw.png\"  width=\"1000px\"/>"
   ]
  },
  {
   "cell_type": "markdown",
   "metadata": {
    "slideshow": {
     "slide_type": "subslide"
    }
   },
   "source": [
    "### Classification vs Regression"
   ]
  },
  {
   "cell_type": "markdown",
   "metadata": {
    "slideshow": {
     "slide_type": "subslide"
    }
   },
   "source": [
    "<img style=\"float: center;\" src=\"https://res.cloudinary.com/practicaldev/image/fetch/s--c4Lfzdwy--/c_limit%2Cf_auto%2Cfl_progressive%2Cq_auto%2Cw_880/https://thepracticaldev.s3.amazonaws.com/i/mjshszqx4fj22hs12vfn.png\"  width=\"1000px\"/>"
   ]
  },
  {
   "cell_type": "markdown",
   "metadata": {
    "slideshow": {
     "slide_type": "subslide"
    }
   },
   "source": [
    "### Linear Regression"
   ]
  },
  {
   "cell_type": "markdown",
   "metadata": {
    "slideshow": {
     "slide_type": "subslide"
    }
   },
   "source": [
    "![title](https://upload.wikimedia.org/wikipedia/commons/thumb/3/3a/Linear_regression.svg/1200px-Linear_regression.svg.png)"
   ]
  },
  {
   "cell_type": "markdown",
   "metadata": {
    "slideshow": {
     "slide_type": "subslide"
    }
   },
   "source": [
    "### Logistic Regression"
   ]
  },
  {
   "cell_type": "markdown",
   "metadata": {
    "slideshow": {
     "slide_type": "subslide"
    }
   },
   "source": [
    "<img style=\"float: center;\" src=\"https://cdn-images-1.medium.com/freeze/max/1000/1*xFhICZgdr2VEZQ-C4FLUEA.jpeg?q=20\"  width=\"1000px\"/>"
   ]
  },
  {
   "cell_type": "markdown",
   "metadata": {
    "slideshow": {
     "slide_type": "subslide"
    }
   },
   "source": [
    "### Loss Functions"
   ]
  },
  {
   "cell_type": "markdown",
   "metadata": {
    "slideshow": {
     "slide_type": "subslide"
    }
   },
   "source": [
    "![title](https://i.ytimg.com/vi/GAKTBQn7yKo/maxresdefault.jpg)"
   ]
  },
  {
   "cell_type": "markdown",
   "metadata": {
    "slideshow": {
     "slide_type": "subslide"
    }
   },
   "source": [
    "### Gradient descent"
   ]
  },
  {
   "cell_type": "markdown",
   "metadata": {
    "slideshow": {
     "slide_type": "subslide"
    }
   },
   "source": [
    "<img style=\"float: center;\" src=\"https://www.researchgate.net/profile/Kumarjit_Pathak2/publication/325142608/figure/fig1/AS:626402734903296@1526357458037/Gradient-descent-algorithm-et-el-1.png\"  width=\"1000px\"/>"
   ]
  },
  {
   "cell_type": "markdown",
   "metadata": {
    "slideshow": {
     "slide_type": "subslide"
    }
   },
   "source": [
    "### Data organization (train, val, test)"
   ]
  },
  {
   "cell_type": "markdown",
   "metadata": {
    "slideshow": {
     "slide_type": "subslide"
    }
   },
   "source": [
    "<img style=\"float: center;\" src=\"https://miro.medium.com/max/1552/1*Nv2NNALuokZEcV6hYEHdGA.png\"  width=\"1000px\"/>"
   ]
  },
  {
   "cell_type": "markdown",
   "metadata": {
    "slideshow": {
     "slide_type": "subslide"
    }
   },
   "source": [
    "### Hyperparameters tuning"
   ]
  },
  {
   "cell_type": "markdown",
   "metadata": {
    "slideshow": {
     "slide_type": "subslide"
    }
   },
   "source": [
    "<img style=\"float: center;\" src=\"https://cdn-images-1.medium.com/max/800/1*5mStLTnIxsANpOHSwAFJhg.png\"  width=\"1000px\"/>"
   ]
  },
  {
   "cell_type": "markdown",
   "metadata": {
    "slideshow": {
     "slide_type": "subslide"
    }
   },
   "source": [
    "### Scoring (confusion matrix, precision, recall, F1, MSE, etc)"
   ]
  },
  {
   "cell_type": "markdown",
   "metadata": {
    "slideshow": {
     "slide_type": "subslide"
    }
   },
   "source": [
    "<img style=\"float: center;\" src=\"https://www.researchgate.net/publication/328148379/figure/fig1/AS:679514740895744@1539020347601/Model-performance-metrics-Visual-representation-of-the-classification-model-metrics.png\"  width=\"1000px\"/>"
   ]
  },
  {
   "cell_type": "markdown",
   "metadata": {
    "slideshow": {
     "slide_type": "subslide"
    }
   },
   "source": [
    "![title](https://miro.medium.com/max/2524/1*G6aSSAJuMDF5RYvPeKqPzg.png)"
   ]
  },
  {
   "cell_type": "markdown",
   "metadata": {
    "slideshow": {
     "slide_type": "subslide"
    }
   },
   "source": [
    "### Model Calibration"
   ]
  },
  {
   "cell_type": "markdown",
   "metadata": {
    "slideshow": {
     "slide_type": "subslide"
    }
   },
   "source": [
    "![title](https://miro.medium.com/max/1200/1*HXCBO-Wx5XhuY_OwMl0Phw.png)"
   ]
  },
  {
   "cell_type": "markdown",
   "metadata": {
    "slideshow": {
     "slide_type": "subslide"
    }
   },
   "source": [
    "<img style=\"float: center;\" src=\"https://miro.medium.com/max/1604/1*kTw1PBCLP8wdj7YTI4iklg.png\"  width=\"1000px\"/>"
   ]
  },
  {
   "cell_type": "markdown",
   "metadata": {
    "slideshow": {
     "slide_type": "subslide"
    }
   },
   "source": [
    "### ROC-AUC"
   ]
  },
  {
   "cell_type": "markdown",
   "metadata": {
    "slideshow": {
     "slide_type": "subslide"
    }
   },
   "source": [
    "<img style=\"float: center;\" src=\"https://encrypted-tbn0.gstatic.com/images?q=tbn%3AANd9GcTRwJkxY7XxerrxTnfYt4DRKGJsg3kzZcqfqQVW0ETG-fWHBAn3\"  width=\"1200px\"/>"
   ]
  },
  {
   "cell_type": "markdown",
   "metadata": {
    "slideshow": {
     "slide_type": "subslide"
    }
   },
   "source": [
    "### Example of linear regression "
   ]
  },
  {
   "cell_type": "markdown",
   "metadata": {
    "slideshow": {
     "slide_type": "fragment"
    }
   },
   "source": [
    "### Example of logistic regression"
   ]
  },
  {
   "cell_type": "markdown",
   "metadata": {
    "slideshow": {
     "slide_type": "subslide"
    }
   },
   "source": [
    "### Numpy&Pandas usages"
   ]
  },
  {
   "cell_type": "markdown",
   "metadata": {
    "slideshow": {
     "slide_type": "subslide"
    }
   },
   "source": [
    "<img style=\"float: center;\" src=\"https://secure.meetupstatic.com/photos/event/1/7/6/c/600_483425996.jpeg\"  width=\"1000px\"/>"
   ]
  },
  {
   "cell_type": "markdown",
   "metadata": {
    "slideshow": {
     "slide_type": "slide"
    }
   },
   "source": [
    "## Workshop 1"
   ]
  },
  {
   "cell_type": "markdown",
   "metadata": {
    "slideshow": {
     "slide_type": "subslide"
    }
   },
   "source": [
    "### Heart Disease Prediction Using Logistic Regression"
   ]
  },
  {
   "cell_type": "markdown",
   "metadata": {
    "slideshow": {
     "slide_type": "fragment"
    }
   },
   "source": [
    "### Car Price Prediction using Linear Regression"
   ]
  },
  {
   "cell_type": "markdown",
   "metadata": {
    "slideshow": {
     "slide_type": "slide"
    }
   },
   "source": [
    "## Regularization in Machine Learning"
   ]
  },
  {
   "cell_type": "markdown",
   "metadata": {
    "slideshow": {
     "slide_type": "subslide"
    }
   },
   "source": [
    "### Motivation"
   ]
  },
  {
   "cell_type": "markdown",
   "metadata": {
    "slideshow": {
     "slide_type": "subslide"
    }
   },
   "source": [
    "<img style=\"float: center;\" src=\"https://i.dailymail.co.uk/i/pix/2015/07/01/13/2A23A22200000578-0-image-a-54_1435753933706.jpg\"  width=\"1000px\"/>"
   ]
  },
  {
   "cell_type": "markdown",
   "metadata": {
    "slideshow": {
     "slide_type": "subslide"
    }
   },
   "source": [
    "### Underfitting and Overfitting"
   ]
  },
  {
   "cell_type": "markdown",
   "metadata": {
    "slideshow": {
     "slide_type": "subslide"
    }
   },
   "source": [
    "<img style=\"float: center;\" src=\"https://miro.medium.com/max/1843/0*Wup-0b5KI6-8cJB4.jpg\"  width=\"1000px\"/>"
   ]
  },
  {
   "cell_type": "markdown",
   "metadata": {
    "slideshow": {
     "slide_type": "subslide"
    }
   },
   "source": [
    "### Bias-variance tradeoff"
   ]
  },
  {
   "cell_type": "markdown",
   "metadata": {
    "slideshow": {
     "slide_type": "subslide"
    }
   },
   "source": [
    "![title](https://kindsonthegenius.com/blog/wp-content/uploads/2018/01/Bias-Variance-Trade-offThumbnail.jpg)"
   ]
  },
  {
   "cell_type": "markdown",
   "metadata": {
    "slideshow": {
     "slide_type": "subslide"
    }
   },
   "source": [
    "### Regularization"
   ]
  },
  {
   "cell_type": "markdown",
   "metadata": {
    "slideshow": {
     "slide_type": "subslide"
    }
   },
   "source": [
    "<img style=\"float: center;\" src=\"https://encrypted-tbn0.gstatic.com/images?q=tbn%3AANd9GcQUHzfe4eVgLNtSOnuVG4DsoR8vWrRprJdZVRBcTS0R_U_LGZgI\"  width=\"1000px\"/>"
   ]
  },
  {
   "cell_type": "markdown",
   "metadata": {
    "slideshow": {
     "slide_type": "slide"
    }
   },
   "source": [
    "## Support Vector Machines"
   ]
  },
  {
   "cell_type": "markdown",
   "metadata": {
    "slideshow": {
     "slide_type": "subslide"
    }
   },
   "source": [
    "### Large margin classifier"
   ]
  },
  {
   "cell_type": "markdown",
   "metadata": {
    "slideshow": {
     "slide_type": "subslide"
    }
   },
   "source": [
    "![title](https://www.researchgate.net/profile/Senol_Emir2/publication/235908051/figure/download/fig2/AS:571032847253523@1513156248774/Seperating-hyperplanes-with-different-margins-a-separating-hyperplane-with-small.png)"
   ]
  },
  {
   "cell_type": "markdown",
   "metadata": {
    "slideshow": {
     "slide_type": "subslide"
    }
   },
   "source": [
    "### Kernels"
   ]
  },
  {
   "cell_type": "markdown",
   "metadata": {},
   "source": [
    "<img style=\"float: center;\" src=\"data:image/png;base64,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\"  width=\"1000px\"/>"
   ]
  },
  {
   "cell_type": "markdown",
   "metadata": {
    "slideshow": {
     "slide_type": "subslide"
    }
   },
   "source": [
    "### Implementation of SVM using scikit-learn library"
   ]
  },
  {
   "cell_type": "markdown",
   "metadata": {
    "slideshow": {
     "slide_type": "slide"
    }
   },
   "source": [
    "## Naive bayes"
   ]
  },
  {
   "cell_type": "markdown",
   "metadata": {
    "slideshow": {
     "slide_type": "subslide"
    }
   },
   "source": [
    "### Bayes Formula"
   ]
  },
  {
   "cell_type": "markdown",
   "metadata": {
    "slideshow": {
     "slide_type": "subslide"
    }
   },
   "source": [
    "![title](https://images.slideplayer.com/16/5057012/slides/slide_2.jpg)"
   ]
  },
  {
   "cell_type": "markdown",
   "metadata": {
    "slideshow": {
     "slide_type": "subslide"
    }
   },
   "source": [
    "### Naive bayes classifier"
   ]
  },
  {
   "cell_type": "markdown",
   "metadata": {
    "slideshow": {
     "slide_type": "subslide"
    }
   },
   "source": [
    "![title](https://miro.medium.com/proxy/1*ZW1icngckaSkivS0hXduIQ.jpeg)"
   ]
  },
  {
   "cell_type": "markdown",
   "metadata": {
    "slideshow": {
     "slide_type": "subslide"
    }
   },
   "source": [
    "### Example of spam classification"
   ]
  },
  {
   "cell_type": "markdown",
   "metadata": {
    "slideshow": {
     "slide_type": "subslide"
    }
   },
   "source": [
    "![title](https://miro.medium.com/max/470/1*byZ8tSrUasgfCvHU0a315Q.png)"
   ]
  },
  {
   "cell_type": "markdown",
   "metadata": {
    "slideshow": {
     "slide_type": "slide"
    }
   },
   "source": [
    "## Decision trees and ensembles"
   ]
  },
  {
   "cell_type": "markdown",
   "metadata": {
    "slideshow": {
     "slide_type": "subslide"
    }
   },
   "source": [
    "### Decision Tree"
   ]
  },
  {
   "cell_type": "markdown",
   "metadata": {
    "slideshow": {
     "slide_type": "subslide"
    }
   },
   "source": [
    "![title](https://res.cloudinary.com/practicaldev/image/fetch/s--NFD01EmD--/c_limit%2Cf_auto%2Cfl_progressive%2Cq_auto%2Cw_880/https://cdn-images-1.medium.com/max/720/1%2AWerHJ14JQAd3j8ASaVjAhw.jpeg)"
   ]
  },
  {
   "cell_type": "markdown",
   "metadata": {
    "slideshow": {
     "slide_type": "subslide"
    }
   },
   "source": [
    "### Ensembling"
   ]
  },
  {
   "cell_type": "markdown",
   "metadata": {
    "slideshow": {
     "slide_type": "subslide"
    }
   },
   "source": [
    "![title](https://static.packt-cdn.com/products/9781789132212/graphics/fa05b159-87cb-405f-ae25-70f13db17c60.png)"
   ]
  },
  {
   "cell_type": "markdown",
   "metadata": {
    "slideshow": {
     "slide_type": "subslide"
    }
   },
   "source": [
    "### Bagging and boosting"
   ]
  },
  {
   "cell_type": "markdown",
   "metadata": {
    "slideshow": {
     "slide_type": "subslide"
    }
   },
   "source": [
    "![title](https://quantdare.com/wp-content/uploads/2016/04/bb3.png)"
   ]
  },
  {
   "cell_type": "markdown",
   "metadata": {
    "slideshow": {
     "slide_type": "slide"
    }
   },
   "source": [
    "## Workshop 2"
   ]
  },
  {
   "cell_type": "markdown",
   "metadata": {
    "slideshow": {
     "slide_type": "subslide"
    }
   },
   "source": [
    "### Sloan Digital Sky Survey Classification"
   ]
  },
  {
   "cell_type": "markdown",
   "metadata": {
    "slideshow": {
     "slide_type": "subslide"
    }
   },
   "source": [
    "<img style=\"float: center;\" src=\"https://cdn.eso.org/images/thumb700x/eso0529b.jpg\"  width=\"1000px\"/>"
   ]
  }
 ],
 "metadata": {
  "celltoolbar": "Slideshow",
  "kernelspec": {
   "display_name": "Python 3",
   "language": "python",
   "name": "python3"
  },
  "language_info": {
   "codemirror_mode": {
    "name": "ipython",
    "version": 3
   },
   "file_extension": ".py",
   "mimetype": "text/x-python",
   "name": "python",
   "nbconvert_exporter": "python",
   "pygments_lexer": "ipython3",
   "version": "3.6.6"
  },
  "toc": {
   "base_numbering": 1.0,
   "nav_menu": {},
   "number_sections": true,
   "sideBar": true,
   "skip_h1_title": false,
   "title_cell": "Table of Contents",
   "title_sidebar": "Contents",
   "toc_cell": false,
   "toc_position": {
    "height": "calc(100% - 180px)",
    "left": "10px",
    "top": "150px",
    "width": "367px"
   },
   "toc_section_display": true,
   "toc_window_display": false
  },
  "varInspector": {
   "cols": {
    "lenName": 16.0,
    "lenType": 16.0,
    "lenVar": 40.0
   },
   "kernels_config": {
    "python": {
     "delete_cmd_postfix": "",
     "delete_cmd_prefix": "del ",
     "library": "var_list.py",
     "varRefreshCmd": "print(var_dic_list())"
    },
    "r": {
     "delete_cmd_postfix": ") ",
     "delete_cmd_prefix": "rm(",
     "library": "var_list.r",
     "varRefreshCmd": "cat(var_dic_list()) "
    }
   },
   "types_to_exclude": [
    "module",
    "function",
    "builtin_function_or_method",
    "instance",
    "_Feature"
   ],
   "window_display": false
  }
 },
 "nbformat": 4,
 "nbformat_minor": 2
}
