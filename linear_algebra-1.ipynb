{
 "cells": [
  {
   "cell_type": "code",
   "execution_count": null,
   "metadata": {},
   "outputs": [],
   "source": [
    "%load_ext autoreload\n",
    "%autoreload 2\n",
    "\n",
    "%matplotlib inline"
   ]
  },
  {
   "cell_type": "markdown",
   "metadata": {},
   "source": [
    "## Basic setup"
   ]
  },
  {
   "cell_type": "markdown",
   "metadata": {},
   "source": [
    "Create anaconda environment\n",
    "<br>\n",
    "```bash\n",
    "conda create -n ml python=3.7.4 jupyter\n",
    "```\n",
    "Install fastai library\n",
    "<br>\n",
    "```bash\n",
    "conda install -c pytorch -c fastai fastai\n",
    "```"
   ]
  },
  {
   "cell_type": "markdown",
   "metadata": {},
   "source": [
    "# Set theory basics"
   ]
  },
  {
   "cell_type": "markdown",
   "metadata": {},
   "source": [
    "Set (small) collection of mathematical (unique) elements $\\{x, y, z, ...\\}$, for instance, set of integers $\\{1, 2, 3, ...\\}$, set of real numbers $\\mathbb{R}$. We can describe a set with its properties, e.g. set of real numbers between $1$ and $5$ will be $\\{x | x \\in \\mathbb{R}, 1\\leq x \\leq 5 \\}$."
   ]
  },
  {
   "cell_type": "code",
   "execution_count": null,
   "metadata": {},
   "outputs": [],
   "source": [
    "S = set([2, 4])\n",
    "A = {1, 2, 3, 4, 4}\n",
    "B = {2, 4}\n",
    "C = {1, 2, 18, 28}\n",
    "type(S), type(A), type(B), A"
   ]
  },
  {
   "cell_type": "markdown",
   "metadata": {},
   "source": [
    "We say that element $a \\in A$ if element $a$ belongs to set $A$ and $a \\notin A$ in the other case"
   ]
  },
  {
   "cell_type": "code",
   "execution_count": null,
   "metadata": {},
   "outputs": [],
   "source": [
    "1 in A, 2 in B, 3 in C"
   ]
  },
  {
   "cell_type": "markdown",
   "metadata": {},
   "source": [
    "Note: sometimes we write $a, b \\in A$ (or $a, b, c \\in A$, $a,b,c,d \\in A$, $a_1, a_2, ..., a_n \\in A$) instead of $a \\in A$ and $b \\in A$ (or $a \\in A$ and $b \\in A$ and $c \\in A$, $a \\in A$ and $b \\in A$ and $c \\in A$ and $d \\in A$, $a_1 \\in A$ and $a_2 \\in A$ and ... $a_n \\in A$)"
   ]
  },
  {
   "cell_type": "markdown",
   "metadata": {},
   "source": [
    "Set (category) of all \"small\" sets $Set$"
   ]
  },
  {
   "cell_type": "markdown",
   "metadata": {},
   "source": [
    "Subset $B \\subseteq A$ if for every $x$ element of $B$, $x \\in A$ "
   ]
  },
  {
   "cell_type": "code",
   "execution_count": null,
   "metadata": {},
   "outputs": [],
   "source": [
    "B.issubset(A), A.issubset(B)"
   ]
  },
  {
   "cell_type": "markdown",
   "metadata": {},
   "source": [
    "# **Prove that $A \\subseteq A$**"
   ]
  },
  {
   "cell_type": "markdown",
   "metadata": {},
   "source": [
    "Let, restate the problem in the following way: $$\\forall x: \\ \\ A \\subseteq A$$ or $$\\forall x: (x\\in A \\implies x\\in A) \\leadsto A \\subseteq A$$\n",
    "\n",
    "by the [Law of Identity](https://proofwiki.org/wiki/Law_of_Identity) it implies itself.\n",
    "\n",
    "$\\blacksquare$"
   ]
  },
  {
   "cell_type": "markdown",
   "metadata": {},
   "source": [
    " "
   ]
  },
  {
   "cell_type": "markdown",
   "metadata": {},
   "source": [
    "Proper subset $B \\subset A$ if for every element $b \\in B$: $A \\in A$ and there exists $a \\in a$ such that: $a \\notin B$, or in other words $B \\subseteq A$ and $B \\neq A$"
   ]
  },
  {
   "cell_type": "markdown",
   "metadata": {},
   "source": [
    "If $A \\subseteq B$ and $B \\subseteq A$ $\\to$ $A = B$"
   ]
  },
  {
   "cell_type": "markdown",
   "metadata": {},
   "source": [
    "Empty set a $\\emptyset$ is a set without elements at all and which is contained in any set $\\emptyset \\subseteq A$ for any $A \\in Set$ so $\\emptyset$ is the \"smallest\" set (Proof it)"
   ]
  },
  {
   "cell_type": "code",
   "execution_count": null,
   "metadata": {},
   "outputs": [],
   "source": [
    "#O = set() \n",
    "O = {}\n",
    "type(O)"
   ]
  },
  {
   "cell_type": "markdown",
   "metadata": {},
   "source": [
    "Intersection of two sets $A$ and $B$ $A \\cap B$ is a \"biggest\" subset of $A$ and $B$, that means for every set $C$ such that, $C \\subseteq A$ and $C \\subseteq B$ $\\to$ (implies) $C \\subseteq A\\cap B$"
   ]
  },
  {
   "cell_type": "code",
   "execution_count": null,
   "metadata": {},
   "outputs": [],
   "source": [
    "print(\"A:\",A)\n",
    "print(\"B:\",B)\n",
    "print(\"C:\",C)\n",
    "print()\n",
    "print(\"A intersection B is:\", A.intersection(B))\n",
    "print(\"A intersection C is:\", A.intersection(B))"
   ]
  },
  {
   "cell_type": "markdown",
   "metadata": {},
   "source": [
    "# Give an exmaples of two sets $A$ and $B$ for which $A \\cap B = \\emptyset$"
   ]
  },
  {
   "cell_type": "code",
   "execution_count": null,
   "metadata": {},
   "outputs": [],
   "source": [
    "A = {1, 2, 3}\n",
    "\n",
    "B = {4, 5, 6}\n",
    "\n",
    "A.intersection(B)"
   ]
  },
  {
   "cell_type": "markdown",
   "metadata": {},
   "source": [
    "# Prove that if $B \\subset A$ then $A \\cap B = B$"
   ]
  },
  {
   "cell_type": "markdown",
   "metadata": {},
   "source": [
    "From proper subset defenition we know that $B \\subset A$ if $\\forall x: \\ x \\in B$ $\\implies$ $ x \\in A$, but $\\exists y: y \\in A \\ and \\ y \\notin B$ $\\implies$ $ A \\cap B = B$\n",
    "\n",
    "$\\blacksquare$"
   ]
  },
  {
   "cell_type": "markdown",
   "metadata": {},
   "source": [
    "# Prove that $A \\cap B = B \\cap A$"
   ]
  },
  {
   "cell_type": "markdown",
   "metadata": {},
   "source": [
    "$$x \\in A \\cap B $$ $\\iff$\n",
    "\n",
    "$$x \\in A \\land x \\in B \\  \\ \\text{by set intersection}$$ by conjuction commutativity $$x \\in B \\land x \\in A$$ $\\implies$ $$x \\in B \\cap A $$\n",
    "\n",
    "$\\blacksquare$"
   ]
  },
  {
   "cell_type": "markdown",
   "metadata": {},
   "source": [
    " "
   ]
  },
  {
   "cell_type": "markdown",
   "metadata": {},
   "source": [
    "Union of two sets $A$ and $B$ , $A \\cup B$ is a \"smallest\" set that contains both - $A$ and $B$, that means:\n",
    "for every set $D$ such that $A \\subseteq D$ and $B \\subseteq D$ $\\to$ (implies) $A \\cup B \\subseteq D$"
   ]
  },
  {
   "cell_type": "code",
   "execution_count": null,
   "metadata": {},
   "outputs": [],
   "source": [
    "print(\"A:\", A)\n",
    "print(\"B:\", B)\n",
    "print(\"C:\",C)\n",
    "print()\n",
    "print(\"A union B:\", A.union(B))\n",
    "print(\"A union C:\", A.union(C))"
   ]
  },
  {
   "cell_type": "markdown",
   "metadata": {},
   "source": [
    "# Prove that if $B \\subset A$ then $A \\cup B = A$"
   ]
  },
  {
   "cell_type": "markdown",
   "metadata": {},
   "source": [
    "From proper subset definiton we know that all elemnets in B is also in A. However, there exsits element in A, which does not belong to the set B. From set union definition, union is the set of all elements which are in A, in B or in both A and B. This implies that if B is a proper subset of A then their union is itself set A.\n",
    "\n",
    "$\\blacksquare$"
   ]
  },
  {
   "cell_type": "markdown",
   "metadata": {},
   "source": [
    "# Prove that $A \\cup B = B \\cup A$"
   ]
  },
  {
   "cell_type": "markdown",
   "metadata": {},
   "source": [
    "$$x \\in A \\cup B$$ $\\iff$ $$x \\in A \\lor x \\in B$$ by disjunction commutativity we have $$x \\in B \\lor x \\in A$$ $\\implies$ $$x \\in B \\cup A$$\n",
    "\n",
    "$\\blacksquare$"
   ]
  },
  {
   "cell_type": "markdown",
   "metadata": {},
   "source": [
    " "
   ]
  },
  {
   "cell_type": "markdown",
   "metadata": {},
   "source": [
    "Difference between two sets $A$ snd $B$ is the set $A - B$ or $A \\setminus B$ for which $a \\in A - B$ if $a \\in A$ and $a \\notin B$"
   ]
  },
  {
   "cell_type": "code",
   "execution_count": null,
   "metadata": {},
   "outputs": [],
   "source": [
    "print(\"A:\", A)\n",
    "print(\"B:\", B)\n",
    "print(\"C:\",C)\n",
    "print()\n",
    "print(\"A difference B:\", A - B)\n",
    "print(\"A difference C:\", A - C)\n",
    "print(\"C difference A:\", C - A)"
   ]
  },
  {
   "cell_type": "markdown",
   "metadata": {},
   "source": [
    "For set $A$ and subset $B$ we denote $A - B$ with $\\overline{B}$ or $B^{C}$"
   ]
  },
  {
   "cell_type": "markdown",
   "metadata": {},
   "source": [
    "Set of subsets (powerset) of the set $X$ will be $2^X = \\{A | A \\subseteq X\\}$"
   ]
  },
  {
   "cell_type": "code",
   "execution_count": null,
   "metadata": {},
   "outputs": [],
   "source": [
    "from itertools import combinations, chain\n",
    "\n",
    "power_set = chain.from_iterable(set(combinations(A, r)) for r in range(len(A)+1))\n",
    "\n",
    "P_A = set(power_set)\n",
    "\n",
    "\n",
    "print(\"Set A:\", A)\n",
    "print(\"Power set of A:\", P_A)\n",
    "print(\"# of elements in set A:\", len(A))\n",
    "print(\"# of elements in power set of A:\", len(P_A))"
   ]
  },
  {
   "cell_type": "markdown",
   "metadata": {},
   "source": [
    "Cartesian product of sets $A$ and $B$ in set of ordered pairs := $A\\times B = \\{(a, b) | a \\in A \\textrm{ and } b\\in B\\}$"
   ]
  },
  {
   "cell_type": "code",
   "execution_count": null,
   "metadata": {},
   "outputs": [],
   "source": [
    "AxB = {(a, b) for a in A for b in B}\n",
    "\n",
    "\n",
    "print(\"Set A:\", A)\n",
    "print(\"Set B:\", B)\n",
    "print()\n",
    "print(\"Cartesian product of set A and B:\", AxB)"
   ]
  },
  {
   "cell_type": "code",
   "execution_count": null,
   "metadata": {},
   "outputs": [],
   "source": [
    "AxBxC = {(a, b, c) for a in A for b in B for c in C}\n",
    "\n",
    "\n",
    "print(\"Cartesian product of set A, B, and C:\", AxBxC)"
   ]
  },
  {
   "cell_type": "markdown",
   "metadata": {},
   "source": [
    "Exclusively for mathematicians $(a, b) = \\{a, \\{a, b\\}\\}$ and $A \\times B = \\{\\{a, \\{a, b\\}\\} | a \\in A \\textrm{ and } b\\in B\\}$"
   ]
  },
  {
   "cell_type": "markdown",
   "metadata": {},
   "source": [
    "Every subset $R$ of $AxB$ is called relation. We write $aRb$ if and only if $(a, b) \\in R$"
   ]
  },
  {
   "cell_type": "markdown",
   "metadata": {},
   "source": [
    "Special cases of relations:"
   ]
  },
  {
   "cell_type": "markdown",
   "metadata": {},
   "source": [
    "For every set $A$ the diagonal $\\Delta \\subseteq A \\times A$ is $\\{(a, a) | a \\in A\\}$"
   ]
  },
  {
   "cell_type": "code",
   "execution_count": null,
   "metadata": {},
   "outputs": [],
   "source": [
    "delta = [(a, a) for a in A] # Use comprehension\n",
    "\n",
    "delta"
   ]
  },
  {
   "cell_type": "markdown",
   "metadata": {},
   "source": [
    "Equivalence relation on the set $A$: $E \\subset A \\times A$ with properties:\n",
    "- For each $a \\in A$ $aEa$, which means that diagonal $\\Delta \\subseteq E$ (reflexive property)\n",
    "- For each $a, b \\in A$ iff $aEb$ then $bEa$ (symmetric property)\n",
    "- For each $a, b, c \\in A$ if $aEb$ and $bEc$ then $aEc$\n"
   ]
  },
  {
   "cell_type": "markdown",
   "metadata": {},
   "source": [
    "Partial order relation $\\leq$\n",
    "- For each $a \\in A$ $a \\leq a$, which means that diagonal $\\Delta \\subseteq E$ (reflexive property)\n",
    "- For each $a, b \\in A$ if $a \\leq b$ and $b\\leq a$ then $a = b$ (anti-symmetric property)\n",
    "- For each $a, b, c \\in A$ if $a \\leq b$ and $b \\leq c$ then $a \\leq c$"
   ]
  },
  {
   "cell_type": "markdown",
   "metadata": {},
   "source": [
    "Function, map $f$ between two sets $A$ and $B$ is the special relation such that for every $a\\in A$ and every $b^{'}, b^{''} \\in B$ if $af{b^{'}}$ and $af{b^{''}}$ $\\to$ $b^{'}={b^{''}}$.\n"
   ]
  },
  {
   "cell_type": "markdown",
   "metadata": {},
   "source": [
    "We write : $f:A \\to B$ or $A \\xrightarrow{f} B$ instead of $f \\subseteq A \\times B $ and $f(a)=b$ or $f:a \\mapsto b$ instead of $afb$"
   ]
  },
  {
   "cell_type": "markdown",
   "metadata": {},
   "source": [
    "We write $f, g :A \\to B$ or $f_1, f_2, ..., f_n : A \\to B$ instead of $f: A\\to B$ and $g:A \\to B$ or  $f_1: A \\to B$ and $f_2 : A \\to B$ ... $f_n : A \\to B$"
   ]
  },
  {
   "cell_type": "code",
   "execution_count": null,
   "metadata": {},
   "outputs": [],
   "source": [
    "f = lambda x: x**2\n",
    "\n",
    "A, set(map(f, A)), A"
   ]
  },
  {
   "cell_type": "markdown",
   "metadata": {},
   "source": [
    "Composition of $f:A \\to B$ and $g:B \\to C$ is $g \\circ f : A \\to C$ where $a \\mapsto g(f(a))$ for each $a \\in A$"
   ]
  },
  {
   "cell_type": "markdown",
   "metadata": {},
   "source": [
    "or $A \\xrightarrow{f} B \\xrightarrow{g} C$ than $g \\circ f:A \\to C$"
   ]
  },
  {
   "cell_type": "markdown",
   "metadata": {},
   "source": [
    "Identity map $1_A:A \\to A$ is defined as $1_A(a) = a$ for each $a \\ int A$\n",
    "<br>\n",
    "If set is given we sometimes write $1:A \\to A$ for simplicity"
   ]
  },
  {
   "cell_type": "code",
   "execution_count": null,
   "metadata": {},
   "outputs": [],
   "source": [
    "g = lambda y: y + 12\n",
    "\n",
    "gof = lambda x : g(f(x))\n",
    "\n",
    "A, set(map(g, set(map(f, A)))), set(map(gof, A)), A"
   ]
  },
  {
   "cell_type": "markdown",
   "metadata": {},
   "source": [
    "Injection (monomorphism): $m:A \\to B$ is called injection if for each pair of elements $a^{'}, a^{''} \\in A$ if $f(a^{'}) = f(a^{''})$ $\\to$ $a^{'} = a^{''}$."
   ]
  },
  {
   "cell_type": "markdown",
   "metadata": {},
   "source": [
    "Surjection (epimorphism): $p:A \\to B$ is called injection if for ech pair of elements $a^{'}, a^{''} \\in A$ if $f(a^{'}) = f(a^{''})$ $\\to$ $a^{'} = a^{''}$."
   ]
  },
  {
   "cell_type": "markdown",
   "metadata": {},
   "source": [
    "Prove that:\n",
    "- for every injection $m:A \\to B$ and pair of functions $f, g :C \\to A$: if $m \\circ f = m \\circ g$ then $f = g$ and vice-versa\n",
    "- for every surjection $e:A \\to B$ and every pair of functions $f, g :B \\to C$: if $f \\circ e = g \\circ e$ then $f = g$ and vice-versa"
   ]
  },
  {
   "cell_type": "markdown",
   "metadata": {},
   "source": [
    "Bijection: $f: A \\to B$ is called bijection if $f$ is injection and surjection simultaneously"
   ]
  },
  {
   "cell_type": "markdown",
   "metadata": {},
   "source": [
    " "
   ]
  },
  {
   "cell_type": "markdown",
   "metadata": {},
   "source": [
    "Prove that \n",
    "- composition of injections is injection itself\n",
    "- composition of surjections is surjection itself\n",
    "- composition of bijections is bijection itself\n",
    "<br>\n",
    "or give a counterexamples"
   ]
  },
  {
   "cell_type": "markdown",
   "metadata": {},
   "source": [
    "# Prove that composition of injections is injection itself"
   ]
  },
  {
   "cell_type": "markdown",
   "metadata": {},
   "source": [
    "Let prove by contrapositivity:\n",
    "    \n",
    "Assume we have two functions $f$ and $g$ and they are injective and suppose\n",
    "\n",
    "$$g\\circ f(x_1)=g\\circ f(x_2)$$\n",
    "\n",
    "This means that\n",
    "\n",
    "$$g(f(x_1))=g(f(x_2))$$\n",
    "\n",
    "Injectrivity of $g$, implies\n",
    "\n",
    "$$f(x_1)=f(x_2)$$\n",
    "\n",
    "And injectivity of $f$, implies\n",
    "\n",
    "$$x_1=x_2$$\n",
    "\n",
    "$\\blacksquare$"
   ]
  },
  {
   "cell_type": "markdown",
   "metadata": {},
   "source": [
    " "
   ]
  },
  {
   "cell_type": "markdown",
   "metadata": {},
   "source": [
    "# Prove that composition of surjections is surjection itself"
   ]
  },
  {
   "cell_type": "markdown",
   "metadata": {},
   "source": [
    "Suppose $f: A \\rightarrow B$ and $g:B \\rightarrow C$ are surjective. In order to prove that $g \\circ f: A \\rightarrow C$, we need to prove:\n",
    "\n",
    "$$\\forall c \\in C, \\ \\exists a \\in A$$ such that $$(g \\circ f)(a) = c$$\n",
    "\n",
    "\n",
    "Let $c$ be any element of $C$\n",
    "\n",
    "Since $g:B \\rightarrow C$ is surjective, $\\exists b \\in B$ such that $g(b) = c$\n",
    "\n",
    "Since $f:A \\rightarrow B$ is surjective, $\\exists a \\in A$ such that $f(a) = b$\n",
    "\n",
    "So,\n",
    "\n",
    "$$(g \\circ f)(a) = g(f(a)) = g(b) = c$$\n",
    "\n",
    "\n",
    "$\\blacksquare$"
   ]
  },
  {
   "cell_type": "markdown",
   "metadata": {},
   "source": [
    " "
   ]
  },
  {
   "cell_type": "markdown",
   "metadata": {},
   "source": [
    "# Prove that composition of bijections is bijection itself"
   ]
  },
  {
   "cell_type": "markdown",
   "metadata": {},
   "source": [
    "Suppose we have two bijective functions $f: A \\rightarrow B$ and $g: B \\rightarrow C$. Now define $h = (g \\circ f): A \\rightarrow C$. We have to show that $h$ is bijection.\n",
    "\n",
    "To show that $h$ is bijection, we have to show that $h$ is injection and surjection simultaneously.\n",
    "\n",
    "**First**, let show that $h$ is injective. For injectivity we have to show that if $h(a) = h(a^{'})$, then $a = a^{'}$.\n",
    "\n",
    "Suppose $h(a) = h(a^{'})$. By our definition of $h$, this means $g(f(a)) = g(f(a^{'}))$. As both, $f$ and $g$ are injective (since they are injective) and so\n",
    "\n",
    "$$g(f(a)) = g(f(a^{'})) \\implies f(a) = f(a^{'}) \\implies a = a^{'}$$ and hence $h$ is injective\n",
    "\n",
    "\n",
    "**Second**, show that that both $f$ and $g$ are surjections. Hence thye are bijectons then $f(A) = B$ and $g(B) = C$. Therefore, we also have that\n",
    "\n",
    "$$h(A) = (g \\circ f)(A) \\\\ = \\{c \\in C \\ | \\ (g \\circ f)(a) = c \\ \\text{for some a} \\in A \\} \\\\ = \\{c \\in C \\ | \\ g(f(a)) = c, \\ \\text{for some a} \\in A \\} \\\\ = \\{c \\in C \\ | \\ g(b) = c \\ \\text{for some b} \\in f(A) \\} \\\\ = g(f(A)) \\\\ = g(B) \\\\ = C$$\n",
    "\n",
    "hence, $h$ is surjective.\n",
    "\n",
    "\n",
    "Since, $h$ is injective and surjective, then $h$ is bijective and sets $A$ and $C$ are in bijective correspondence.\n",
    "\n",
    "\n",
    "$\\blacksquare$"
   ]
  },
  {
   "cell_type": "markdown",
   "metadata": {},
   "source": [
    " "
   ]
  },
  {
   "cell_type": "markdown",
   "metadata": {},
   "source": [
    "If there exists a bijection between two sets $A$ and $B$, we call these two sets equivalent sets and write $A \\equiv B$ or $A \\cong B$"
   ]
  },
  {
   "cell_type": "markdown",
   "metadata": {},
   "source": [
    "Prove that for each set $A$:\n",
    "- $A \\cong A$\n",
    "- if $B \\cong A$ then $B \\cong A$ for every pair of sets $A$ and $B$\n",
    "- if $A \\cong B$ and $B \\cong C$ then $A \\cong C$ for every triplet $A$, $B$ and $C$"
   ]
  },
  {
   "cell_type": "markdown",
   "metadata": {},
   "source": [
    "Prove that there exists a bijection between set of natural and even numbers"
   ]
  },
  {
   "cell_type": "markdown",
   "metadata": {},
   "source": [
    "Prove thet if we have a bijection between two finite sets than they have an equal number of elements"
   ]
  },
  {
   "cell_type": "markdown",
   "metadata": {},
   "source": [
    "Prove that $A \\times B \\cong B \\times A$"
   ]
  },
  {
   "cell_type": "markdown",
   "metadata": {},
   "source": [
    " "
   ]
  },
  {
   "cell_type": "markdown",
   "metadata": {},
   "source": [
    "Suppose we have a set $I$ and $A$ and bijection $i:I \\to C \\subseteq 2^A$ than $I$ is called index set."
   ]
  },
  {
   "cell_type": "markdown",
   "metadata": {},
   "source": [
    "Let $I = \\mathbb{N}$ the we have a sequence of sets $(A_1, A_2, ...)$, or if $I$ is finite then we have a finite sequence of sets"
   ]
  },
  {
   "cell_type": "markdown",
   "metadata": {},
   "source": [
    "We can generalize intersections and unions for as many sets as we want"
   ]
  },
  {
   "cell_type": "markdown",
   "metadata": {},
   "source": [
    "$\\cap_{i\\in I}A_i$ and $\\cup_{i\\in I}A_i$"
   ]
  },
  {
   "cell_type": "code",
   "execution_count": null,
   "metadata": {},
   "outputs": [],
   "source": [
    "# Inplement in python"
   ]
  },
  {
   "cell_type": "code",
   "execution_count": null,
   "metadata": {},
   "outputs": [],
   "source": [
    "x = {1,2,3,5}\n",
    "y = {4,5,3}\n",
    "z = {7,3,5}\n",
    "\n",
    "\n",
    "\n",
    "def set_intersection(*args):\n",
    "    x = list(args)\n",
    "    result = set.intersection(*x)\n",
    "    return result\n",
    "\n",
    "\n",
    "\n",
    "\n",
    "set_intersection(x, y, z)"
   ]
  },
  {
   "cell_type": "markdown",
   "metadata": {},
   "source": [
    "We can also define cartesian product of any \"number\" of sets $\\prod_{i \\in I}{A_i}$"
   ]
  },
  {
   "cell_type": "code",
   "execution_count": null,
   "metadata": {},
   "outputs": [],
   "source": [
    "# Inplement in python"
   ]
  },
  {
   "cell_type": "code",
   "execution_count": null,
   "metadata": {
    "scrolled": true
   },
   "outputs": [],
   "source": [
    "from itertools import product\n",
    "\n",
    "\n",
    "\n",
    "x = {1,2,3,5}\n",
    "y = {4,5,3}\n",
    "z = {7,3,5}\n",
    "\n",
    "\n",
    "\n",
    "\n",
    "def multi_cartesian(*args):\n",
    "    result = list(product(*args))\n",
    "    return result\n",
    "\n",
    "\n",
    "multi_cartesian(x,y,z)"
   ]
  },
  {
   "cell_type": "markdown",
   "metadata": {},
   "source": [
    "- $\\overline{\\cap_{i\\in I}A_i} = \\cup_{i\\in I}\\overline{A_i}$\n",
    "- $\\overline{\\cup_{i\\in I}A_i} = \\cap_{i\\in I}\\overline{A_i}$\n",
    "<br>\n",
    "or\n",
    "<br>\n",
    "- $\\overline{A \\cap B} = \\overline{A} \\cup \\overline{B}$\n",
    "- $\\overline{A \\cup B} = \\overline{A} \\cap \\overline{B}$"
   ]
  },
  {
   "cell_type": "markdown",
   "metadata": {},
   "source": [
    "Prove that:\n",
    "$$A \\cap (B \\cup C)=(A \\cap B) \\cup (A\\cap C)$$\n",
    "$$A \\cup (B \\cap C)=(A \\cup B) \\cap (A\\cup C)$$"
   ]
  },
  {
   "cell_type": "markdown",
   "metadata": {},
   "source": [
    "# Linear Algebra"
   ]
  },
  {
   "cell_type": "markdown",
   "metadata": {},
   "source": [
    "Branch of mathematics widely used in many fields. We'll introduce you to the essentials used in ML and DL.\n",
    "Many notions are simplified (sorry to mathematicians) for better understanding and implementation.\n",
    "We'll implement some basics of LA in NumPy library and have a glance of its use in CS fields."
   ]
  },
  {
   "cell_type": "markdown",
   "metadata": {},
   "source": [
    "## Scalars"
   ]
  },
  {
   "cell_type": "markdown",
   "metadata": {},
   "source": [
    "Real set of numbers $\\mathbb{R}$. Scalars as elements of the set of real numbers $x \\in \\mathbb{R}$ with sum, multiplication, etc.\n",
    "We define subset of numbers: natural numbers $\\mathbb{N}$, integers $\\mathbb{Z}$, rational numbers $\\mathbb{Q}$ and irrational numbers $\\mathbb{R}\\setminus\\mathbb{Q}$"
   ]
  },
  {
   "cell_type": "code",
   "execution_count": null,
   "metadata": {},
   "outputs": [],
   "source": [
    "m = 100 \n",
    "n = 5.0\n",
    "type(m), type(n), type(m + n), m + n"
   ]
  },
  {
   "cell_type": "markdown",
   "metadata": {},
   "source": [
    "Take $a \\in \\mathbb{R}$ then for each $b \\in \\mathbb{R}$ there exists $\\alpha \\in \\mathbb{R}$ such that $b = \\alpha a$"
   ]
  },
  {
   "cell_type": "markdown",
   "metadata": {},
   "source": [
    "## Vectors"
   ]
  },
  {
   "cell_type": "markdown",
   "metadata": {},
   "source": [
    "Vectors can be considered as a subset of cartesian product of $\\mathbb{R}$ ($\\mathbb{N}$, $\\mathbb{Z}$, $\\mathbb{Q}$, etc)\n",
    "<br>\n",
    "For instance vector $x = (x_1, x_2, \\dots, x_n)$ we can write $x \\in \\mathbb{R}^{n}$\n",
    "<br>"
   ]
  },
  {
   "cell_type": "code",
   "execution_count": null,
   "metadata": {},
   "outputs": [],
   "source": [
    "import numpy as np"
   ]
  },
  {
   "cell_type": "code",
   "execution_count": null,
   "metadata": {},
   "outputs": [],
   "source": [
    "la = [1, 2, 3, 4]\n",
    "na = np.array([1, 2, 3, 4, 5])\n",
    "\n",
    "print(\"Python native array:\", la)\n",
    "print()\n",
    "print(\"Numpy array:\", na)"
   ]
  },
  {
   "cell_type": "markdown",
   "metadata": {},
   "source": [
    "In many cases we'll work with collumn vectors like $\\begin{align}\n",
    "    x &= \\begin{bmatrix}\n",
    "           x_{1} \\\\\n",
    "           x_{2} \\\\\n",
    "           \\vdots \\\\\n",
    "           x_{m}\n",
    "         \\end{bmatrix}\n",
    "  \\end{align}$"
   ]
  },
  {
   "cell_type": "markdown",
   "metadata": {},
   "source": [
    "What is the difference between set $\\{a_1, a_2, \\dots, a_n\\}$ and vector $(a_1, a_2, \\dots, a_n)$?"
   ]
  },
  {
   "cell_type": "markdown",
   "metadata": {},
   "source": [
    "### Set only contains unique elements and vector can contain repeatable elements. Otherwise there is no any visual differene, but the mechanics differ"
   ]
  },
  {
   "cell_type": "markdown",
   "metadata": {},
   "source": [
    "Indexing the vectors"
   ]
  },
  {
   "cell_type": "code",
   "execution_count": null,
   "metadata": {},
   "outputs": [],
   "source": [
    "la[-1], la[2], la[2:], la[:-1], la[2:4]"
   ]
  },
  {
   "cell_type": "code",
   "execution_count": null,
   "metadata": {},
   "outputs": [],
   "source": [
    "na[-1], na[2], na[2:], na[:-1], na[2:4]"
   ]
  },
  {
   "cell_type": "code",
   "execution_count": null,
   "metadata": {},
   "outputs": [],
   "source": [
    "lid = [1, 2]\n",
    "na[lid]"
   ]
  },
  {
   "cell_type": "code",
   "execution_count": null,
   "metadata": {},
   "outputs": [],
   "source": [
    "nid = np.array(lid)"
   ]
  },
  {
   "cell_type": "code",
   "execution_count": null,
   "metadata": {},
   "outputs": [],
   "source": [
    "na[lid]"
   ]
  },
  {
   "cell_type": "markdown",
   "metadata": {},
   "source": [
    "## Matrices"
   ]
  },
  {
   "cell_type": "markdown",
   "metadata": {},
   "source": [
    "Matrix $X$ can be considered as mulitidimensional array \n",
    "$\\begin{align}\n",
    "    X &= \\begin{matrix}\n",
    "        x_{11} & x_{12} & \\dots x_{1m} \\\\\n",
    "        x_{21} & x_{22} & \\dots x_{2m} \\\\\n",
    "        \\vdots & \\vdots & \\vdots \\\\\n",
    "        x_{n1} & x_{n2} & \\dots x_{nm} \\\\\n",
    "    \\end{matrix}\n",
    "\\end{align}$\n",
    "or \n",
    "$\\begin{align}\n",
    "    X &= \\begin{pmatrix}\n",
    "        x_{11} & x_{12} & \\dots x_{1m} \\\\\n",
    "        x_{21} & x_{22} & \\dots x_{2m} \\\\\n",
    "        \\vdots & \\vdots & \\vdots \\\\\n",
    "        x_{n1} & x_{n2} & \\dots x_{nm} \\\\\n",
    "    \\end{pmatrix}\n",
    "\\end{align}$\n",
    "or\n",
    "$\\begin{align}\n",
    "    X &= \\begin{bmatrix}\n",
    "        x_{11} & x_{12} & \\dots x_{1m} \\\\\n",
    "        x_{21} & x_{22} & \\dots x_{2m} \\\\\n",
    "        \\vdots & \\vdots & \\vdots \\\\\n",
    "        x_{n1} & x_{n2} & \\dots x_{nm} \\\\\n",
    "    \\end{bmatrix}\n",
    "\\end{align}$\n",
    "<br>\n",
    "Matrix also can be defined by indices $A_{i, j}$ if we don't need concrete demensions"
   ]
  },
  {
   "cell_type": "markdown",
   "metadata": {},
   "source": [
    "We say that $X$ has $n \\times m$ dimension\n",
    "<br>\n",
    "or $X \\in \\mathbb{R}^{n \\times m}$"
   ]
  },
  {
   "cell_type": "markdown",
   "metadata": {},
   "source": [
    "e.g. $\\begin{align}\n",
    "    X &= \\begin{pmatrix}\n",
    "        1 & 2 & 3 \\\\\n",
    "        4 & 5 & 6 \\\\\n",
    "        7 & 8 & 9 \\\\\n",
    "    \\end{pmatrix}\n",
    "\\end{align}$\n",
    "<br>\n",
    "Then $X_{23} = 6$"
   ]
  },
  {
   "cell_type": "markdown",
   "metadata": {},
   "source": [
    "Main diagonal of matrix $X$ are elements $x_{i,j}$ where $i = j$\n",
    "<br>\n",
    "$\\begin{align}\n",
    "    X &= \\begin{pmatrix}\n",
    "        x_{11} &  & \\dots \\\\\n",
    "         & x_{22} & \\dots \\\\\n",
    "        \\vdots & \\vdots & \\vdots \\\\\n",
    "         &  & \\dots x_{nm} \\\\\n",
    "    \\end{pmatrix}\n",
    "\\end{align}$\n"
   ]
  },
  {
   "cell_type": "code",
   "execution_count": null,
   "metadata": {},
   "outputs": [],
   "source": [
    "lm = [[1, 2, 3], [4, 5, 6], [7, 8, 9]]\n",
    "nm = np.array(lm) # np.array([[1, 2, 3], [4, 5, 6]])\n",
    "print(lm)\n",
    "print(nm)"
   ]
  },
  {
   "cell_type": "code",
   "execution_count": null,
   "metadata": {},
   "outputs": [],
   "source": [
    "lm[1][2], nm[1][2]"
   ]
  },
  {
   "cell_type": "code",
   "execution_count": null,
   "metadata": {},
   "outputs": [],
   "source": [
    "lm[1:], nm[1:]"
   ]
  },
  {
   "cell_type": "code",
   "execution_count": null,
   "metadata": {},
   "outputs": [],
   "source": [
    "print(lm[1:2]) \n",
    "print(nm[1:, :]) \n",
    "nc_1 = nm[0, :]\n",
    "print(nc_1)\n",
    "nc_1[0] = 12\n",
    "nm, nc_1"
   ]
  },
  {
   "cell_type": "code",
   "execution_count": null,
   "metadata": {},
   "outputs": [],
   "source": [
    "np.diag(nm, k=0)"
   ]
  },
  {
   "cell_type": "markdown",
   "metadata": {},
   "source": [
    "## Tensors"
   ]
  },
  {
   "cell_type": "markdown",
   "metadata": {},
   "source": [
    "Let's go to the higher dimesions and define tensor $X$ as part of $\\mathbb{R}^{n \\times m \\times k}$\n",
    "<br>\n",
    "Then we have a three indices instead of two, and $x_{i, j, k}$ is the element of tensor $X$ across the $i, j$ and $k$ indices"
   ]
  },
  {
   "cell_type": "markdown",
   "metadata": {},
   "source": [
    "In similar manner we can define more than three dimensional tensors $X \\in \\mathbb{R}^{n_1 \\times n_2 \\times \\dots \\times n_p}$"
   ]
  },
  {
   "cell_type": "code",
   "execution_count": null,
   "metadata": {},
   "outputs": [],
   "source": [
    "lt = [[[1, 2, 3], [4, 5, 6], [7, 8, 9]], [[10, 11, 12], [13, 14, 15], [16, 17, 18]]]\n",
    "mt = np.array(lt) # or np.array([[[1, 2, 3], [4, 5, 6], [7, 8, 9]], [[10, 11, 12], [13, 14, 15], [16, 17, 18]]])\n",
    "print(mt)\n",
    "print(lt)"
   ]
  },
  {
   "cell_type": "code",
   "execution_count": null,
   "metadata": {},
   "outputs": [],
   "source": [
    "mt = np.random.randint(0,100, size=(3, 3, 3))"
   ]
  },
  {
   "cell_type": "code",
   "execution_count": null,
   "metadata": {},
   "outputs": [],
   "source": [
    "mt"
   ]
  },
  {
   "cell_type": "code",
   "execution_count": null,
   "metadata": {},
   "outputs": [],
   "source": [
    "md = np.random.randint(0,100, size=(2, 3, 4))"
   ]
  },
  {
   "cell_type": "code",
   "execution_count": null,
   "metadata": {},
   "outputs": [],
   "source": [
    "md"
   ]
  },
  {
   "cell_type": "markdown",
   "metadata": {},
   "source": [
    "Transpose of matrix $X$ denoted by $X^T$ defined by elements $(X^{T})_{i, j} = X_{j, i}$ or $X \\in \\mathbb{R}^{n \\times m}$ then $T^{T} \\in \\mathbb{R}^{m \\times n}$\n",
    "<br>\n",
    "e.g.\n",
    "<br>\n",
    "$\\begin{align}\n",
    "    X &= \\begin{pmatrix}\n",
    "        x_{11} & x_{12} & \\dots x_{1m} \\\\\n",
    "        x_{21} & x_{22} & \\dots x_{2m} \\\\\n",
    "        \\vdots & \\vdots & \\vdots \\\\\n",
    "        x_{n1} & x_{n2} & \\dots x_{nm} \\\\\n",
    "    \\end{pmatrix}\n",
    "\\end{align}$ then $\\begin{align}\n",
    "    X^{T} &= \\begin{pmatrix}\n",
    "        x_{11} & x_{21} & \\dots x_{m1} \\\\\n",
    "        x_{12} & x_{22} & \\dots x_{m2} \\\\\n",
    "        \\vdots & \\vdots & \\vdots \\\\\n",
    "        x_{1n} & x_{2n} & \\dots x_{mn} \\\\\n",
    "    \\end{pmatrix}\n",
    "\\end{align}$"
   ]
  },
  {
   "cell_type": "markdown",
   "metadata": {},
   "source": [
    "Transpose can be thought as mirror along with the main diagonal"
   ]
  },
  {
   "cell_type": "markdown",
   "metadata": {},
   "source": [
    "Visualisation of transpose matrix $X \\in \\mathbb{R}^{4 \\times 4}$"
   ]
  },
  {
   "cell_type": "markdown",
   "metadata": {},
   "source": [
    "![SegmentLocal](images/la1/transpose1.gif \"segment\")"
   ]
  },
  {
   "cell_type": "markdown",
   "metadata": {},
   "source": [
    "Transpose matrix $X \\in \\mathbb{R}^{2 \\times 3}$"
   ]
  },
  {
   "cell_type": "markdown",
   "metadata": {},
   "source": [
    "![SegmentLocal](images/la1/transpose2.gif \"segment\")"
   ]
  },
  {
   "cell_type": "markdown",
   "metadata": {},
   "source": [
    "We can consider scalar as one dimensional vector and vector as $v = (v_1, v_2, \\dots, v_n)$ as matrix with $1 \\times n$ dimensions and \n",
    "$\\begin{align}\n",
    "    u &= \\begin{bmatrix}\n",
    "           u_{1} \\\\\n",
    "           u_{2} \\\\\n",
    "           \\vdots \\\\\n",
    "           u_{m}\n",
    "         \\end{bmatrix}\n",
    " \\end{align}$ as matrix with $m \\times 1$ dimensions\n",
    "<br>\n",
    "then \n",
    "$\\begin{align}\n",
    "    v^{T} &= \\begin{bmatrix}\n",
    "           v_{1} \\\\\n",
    "           v_{2} \\\\\n",
    "           \\vdots \\\\\n",
    "           v_{n}\n",
    "         \\end{bmatrix}\n",
    " \\end{align}$ and $u^{T} = (u_1, u_2, \\dots, u_m)$"
   ]
  },
  {
   "cell_type": "code",
   "execution_count": null,
   "metadata": {},
   "outputs": [],
   "source": [
    "print(nm)"
   ]
  },
  {
   "cell_type": "code",
   "execution_count": null,
   "metadata": {},
   "outputs": [],
   "source": [
    "print(nm.T)"
   ]
  },
  {
   "cell_type": "markdown",
   "metadata": {},
   "source": [
    "For scalar $a \\in \\mathbb{R}$ we have $a^{T} = a$"
   ]
  },
  {
   "cell_type": "markdown",
   "metadata": {},
   "source": [
    "# Operations on Matrices"
   ]
  },
  {
   "cell_type": "markdown",
   "metadata": {},
   "source": [
    "We can add two $A, B \\in \\mathbb{R}^{n \\times m}$ matrices $C = A + B$ as \n",
    "$\\begin{align}\n",
    "    C &= \\begin{pmatrix}\n",
    "        {a_{11} + b_{11}} & {a_{12} + b_{12}} & \\dots {a_{1m} + b_{1m}} \\\\\n",
    "        {a_{21} + b_{21}} & {a_{22} + b_{22}} & \\dots {a_{2m} + b_{2m}} \\\\\n",
    "        \\vdots & \\vdots & \\vdots \\\\\n",
    "        {a_{n1} + b_{n1}} & {a_{n2} + b_{n2}} & \\dots {a_{nm} + b_{nm}} \\\\\n",
    "    \\end{pmatrix}\n",
    "\\end{align}$ or we could write $c_{i, j} = a_{i, j} + b_{i, j}$"
   ]
  },
  {
   "cell_type": "code",
   "execution_count": null,
   "metadata": {},
   "outputs": [],
   "source": [
    "m1 = np.array([[2, 4, 6], [12, 14, 16], [22, 24, 26]])\n",
    "m2 = np.array([[1, 3, 4], [11, 13, 14], [42, 44, 44]])\n",
    "print(\"First matrix\",m1)\n",
    "print(\"Second matrix\",m2)\n",
    "print(\"Sum\",m1 + m2)"
   ]
  },
  {
   "cell_type": "markdown",
   "metadata": {},
   "source": [
    "Add scalar $a \\in \\mathbb{R}$ and matrix $X \\in \\mathbb{R}^{n \\times m}$ as \n",
    "$\\begin{align}\n",
    "    X + a &= \\begin{pmatrix}\n",
    "        {x_{11} + a} & {x_{12} + a} & \\dots {x_{1m} + a} \\\\\n",
    "        {x_{21} + a} & {x_{22} + a} & \\dots {x_{2m} + a} \\\\\n",
    "        \\vdots & \\vdots & \\vdots \\\\\n",
    "        {x_{n1} + a} & {x_{n2} + a} & \\dots {x_{nm} + a} \\\\\n",
    "    \\end{pmatrix}\n",
    "\\end{align}$ or we could write ${(X + a)}_{i, j} = x_{i, j} + a$\n",
    "<br>\n",
    "In the same way we can define ${(a + X)}_{i, j} = a + x_{i, j}$\n",
    "<br>\n",
    "Multiplication of scalar and matrix\n",
    "$\\begin{align}\n",
    "    Xa &= \\begin{pmatrix}\n",
    "        {x_{11}a} & {x_{12}a} & \\dots {x_{1m}a} \\\\\n",
    "        {x_{21}a} & {x_{22}a} & \\dots {x_{2m}a} \\\\\n",
    "        \\vdots & \\vdots & \\vdots \\\\\n",
    "        {x_{n1}a} & {x_{n2}a} & \\dots {x_{nm}a} \\\\\n",
    "    \\end{pmatrix}\n",
    "\\end{align}$ or we could write ${(X + a)}_{i, j} = x_{i, j} + a$\n",
    "<br>\n",
    "In the same way we can define ${(aX)}_{i, j} = ax_{i, j}$\n",
    "<br>\n",
    "Thus, we have $C = aX + b$ for $a \\in \\mathbb{R}$ and matrix $X \\in \\mathbb{R}^{n \\times m}$\n"
   ]
  },
  {
   "cell_type": "markdown",
   "metadata": {},
   "source": [
    "Prove that $a + X = X + a$ and $aX = Xa$ for every scalar $a \\in \\mathbb{R}$ and matrix $X \\in \\mathbb{R}^{n \\times m}$"
   ]
  },
  {
   "cell_type": "code",
   "execution_count": null,
   "metadata": {},
   "outputs": [],
   "source": [
    "m1, m1*5 + 2\n"
   ]
  },
  {
   "cell_type": "markdown",
   "metadata": {},
   "source": [
    "Add matrix and vector $A + b$ where $A \\in \\mathbb{R}^{n \\times m}$ $b \\in \\mathbb{R}^{1 \\times m}$ can be done by broadcasting\n",
    "<br>\n",
    "$C_{i, j} = A_{i, j} + b_{j}$"
   ]
  },
  {
   "cell_type": "code",
   "execution_count": null,
   "metadata": {},
   "outputs": [],
   "source": [
    "v1 = np.array([[2], [4], [6]])\n"
   ]
  },
  {
   "cell_type": "code",
   "execution_count": null,
   "metadata": {},
   "outputs": [],
   "source": [
    "print(m1)\n",
    "print(v1)\n",
    "print(v1.T)\n",
    "print(m1 + v1)\n",
    "print(m1 + v1.T)"
   ]
  },
  {
   "cell_type": "markdown",
   "metadata": {},
   "source": [
    "For matrix $A \\in \\mathbb{R}^{n \\times m}$ and $B \\in \\mathbb{R}^{m \\times l}$ let's define $C = AB$ as $C_{i, j} = \\sum_{k = 1}^{n}{A_{i, k}B_{k, j}}$ it is clear that $C \\in \\mathbb{R}^{n \\times l}$"
   ]
  },
  {
   "cell_type": "markdown",
   "metadata": {},
   "source": [
    "Let's visualize"
   ]
  },
  {
   "cell_type": "markdown",
   "metadata": {},
   "source": [
    "![SegmentLocal](images/la1/mult1.gif \"segment\")"
   ]
  },
  {
   "cell_type": "code",
   "execution_count": null,
   "metadata": {},
   "outputs": [],
   "source": [
    "m1 = np.array([[1, 2, 1], [0, 1, 0], [2, 3, 4]])\n",
    "m2 = np.array([[2, 5], [6, 7], [1, 8]])"
   ]
  },
  {
   "cell_type": "code",
   "execution_count": null,
   "metadata": {},
   "outputs": [],
   "source": [
    "print(m1)\n",
    "print(m2)"
   ]
  },
  {
   "cell_type": "code",
   "execution_count": null,
   "metadata": {},
   "outputs": [],
   "source": [
    "# m3 = np.dot(m1, m2)\n",
    "m3 = m1 @ m2"
   ]
  },
  {
   "cell_type": "code",
   "execution_count": null,
   "metadata": {},
   "outputs": [],
   "source": [
    "print(m3)"
   ]
  },
  {
   "cell_type": "markdown",
   "metadata": {},
   "source": [
    "Or slower version"
   ]
  },
  {
   "cell_type": "markdown",
   "metadata": {},
   "source": [
    "![SegmentLocal](images/la1/mult2.gif \"segment\")"
   ]
  },
  {
   "cell_type": "code",
   "execution_count": null,
   "metadata": {},
   "outputs": [],
   "source": [
    "n1 = np.array([[8, 1, 2], [-5, 6, 7]])\n",
    "n2 = np.array([[-5, 1], [0, 2], [-11, 7]])"
   ]
  },
  {
   "cell_type": "code",
   "execution_count": null,
   "metadata": {},
   "outputs": [],
   "source": [
    "print(n1)\n",
    "print(n2)"
   ]
  },
  {
   "cell_type": "code",
   "execution_count": null,
   "metadata": {},
   "outputs": [],
   "source": [
    "#n3 = np.dot(n1, n2)\n",
    "n3 = n1 @ n2"
   ]
  },
  {
   "cell_type": "code",
   "execution_count": null,
   "metadata": {},
   "outputs": [],
   "source": [
    "print(n3) #, n3"
   ]
  },
  {
   "cell_type": "markdown",
   "metadata": {},
   "source": [
    "Hadamard product of $A \\in \\mathbb{R^{n \\times m}}$ and $B \\in \\mathbb{R^{n \\times m}}$ define $C = A \\odot B$ if $C_{i, j} = A_{i, j}B_{i, j}$ (elementwise product)"
   ]
  },
  {
   "cell_type": "code",
   "execution_count": null,
   "metadata": {},
   "outputs": [],
   "source": [
    "a1 = np.random.random(size=(2, 3))\n",
    "a2 = np.random.random(size=(2, 3))"
   ]
  },
  {
   "cell_type": "code",
   "execution_count": null,
   "metadata": {},
   "outputs": [],
   "source": [
    "print(a1)\n",
    "\n",
    "print(a2)\n",
    "\n",
    "print(a1 * a2)"
   ]
  },
  {
   "cell_type": "code",
   "execution_count": null,
   "metadata": {},
   "outputs": [],
   "source": [
    "a1 = np.array([[1, 2], [4, 8], [3., 4.]])\n",
    "a2 = np.array([[2, 4.], [4., 4], [3., 2.]])"
   ]
  },
  {
   "cell_type": "code",
   "execution_count": null,
   "metadata": {},
   "outputs": [],
   "source": [
    "a1"
   ]
  },
  {
   "cell_type": "code",
   "execution_count": null,
   "metadata": {},
   "outputs": [],
   "source": [
    "a2"
   ]
  },
  {
   "cell_type": "code",
   "execution_count": null,
   "metadata": {},
   "outputs": [],
   "source": [
    "a1 * a2"
   ]
  },
  {
   "cell_type": "code",
   "execution_count": null,
   "metadata": {},
   "outputs": [],
   "source": [
    "np.sum(a1 * a2)"
   ]
  },
  {
   "cell_type": "code",
   "execution_count": null,
   "metadata": {},
   "outputs": [],
   "source": [
    "np.multiply(a1, a2)"
   ]
  },
  {
   "cell_type": "code",
   "execution_count": null,
   "metadata": {},
   "outputs": [],
   "source": [
    "np.sum(np.multiply(a1, a2))"
   ]
  },
  {
   "cell_type": "code",
   "execution_count": null,
   "metadata": {},
   "outputs": [],
   "source": [
    "a1 = np.arange(3*2).reshape((3, 2))\n",
    "a1 = np.arange(3*2).reshape((2, 3))"
   ]
  },
  {
   "cell_type": "code",
   "execution_count": null,
   "metadata": {},
   "outputs": [],
   "source": [
    "a1"
   ]
  },
  {
   "cell_type": "code",
   "execution_count": null,
   "metadata": {},
   "outputs": [],
   "source": [
    "a2"
   ]
  },
  {
   "cell_type": "code",
   "execution_count": null,
   "metadata": {},
   "outputs": [],
   "source": [
    "a1 @ a2"
   ]
  },
  {
   "cell_type": "markdown",
   "metadata": {},
   "source": [
    "Dot product of vectors $v, u \\in \\mathbb{R}^{n} \\equiv \\mathbb{R}^{1 \\times n}$ define as $v^{T}u$"
   ]
  },
  {
   "cell_type": "markdown",
   "metadata": {},
   "source": [
    "Prove that $uv^{T} = vu^{T}$ for each $v, u \\in \\mathbb{R}^{n}$"
   ]
  },
  {
   "cell_type": "markdown",
   "metadata": {},
   "source": [
    "For each pair of matrices $A, B \\in \\mathbb{R}^{n \\times m}$ holds:\n",
    "- $A + B = B + A$\n",
    "- $(A + B) + C = B + (A + C)$\n",
    "- $A(B + C) = AB + AC$\n",
    "- $A(BC) = (AB)C$"
   ]
  },
  {
   "cell_type": "markdown",
   "metadata": {},
   "source": [
    "# Prove that $(AB)^{T} = B^{T}A^{T}$ for each pair of matrices $A, B \\in \\mathbb{R}^{n \\times m}$"
   ]
  },
  {
   "cell_type": "markdown",
   "metadata": {},
   "source": [
    "To prove above proposition we need to recall matrix multiplication, which is:\n",
    "\n",
    "$$A \\cdot B = (AB)_{ij} = \\sum_{k=1}^n a_{ik} b_{kj}$$\n",
    "\n",
    "Let take transpose of it, we'll have\n",
    "\n",
    "$$(A \\cdot B)^{T} = ((AB)_{ij})^T = \\sum_{k=1}^n a_{jk}b_{ki}$$\n",
    "\n",
    "For $B \\cdot A$ we have\n",
    "\n",
    "$$(BA)_{ij} = \\sum_{k=1}^n b_{ik}a_{ki}$$\n",
    "\n",
    "Then we have\n",
    "\n",
    "$$B^{T}A^{T} = (B_{ik})^{T}(A_{kj})^{T} = \\sum_{k=1}^n b_{ki}a_{jk} = \\sum_{k=1}^n a_{jk}b_{ki}$$\n",
    "\n",
    "$\\blacksquare$"
   ]
  },
  {
   "cell_type": "markdown",
   "metadata": {},
   "source": [
    "For instance $Ax=b$"
   ]
  },
  {
   "cell_type": "markdown",
   "metadata": {},
   "source": [
    "Vectorization vs loops"
   ]
  },
  {
   "cell_type": "code",
   "execution_count": null,
   "metadata": {},
   "outputs": [],
   "source": [
    "l1 = np.random.randn(3, 4)\n",
    "l2 = np.random.randn(4, 6)\n",
    "l1, l2"
   ]
  },
  {
   "cell_type": "code",
   "execution_count": null,
   "metadata": {},
   "outputs": [],
   "source": [
    "def dot_prod(mx1, mx2, verbose = False):\n",
    "    mx3 = np.zeros((mx1.shape[0], mx2.shape[1]))\n",
    "    if verbose: print(f'mx3.shape = {mx3.shape}')\n",
    "    for i in range(mx1.shape[0]):\n",
    "        if verbose: print(f'i = {i}')\n",
    "        for k in range(mx2.shape[1]):\n",
    "            if verbose: print(f'\\tk = {k}')\n",
    "            for j in range(mx1.shape[1]):\n",
    "                if verbose: print(f'\\t\\tj = {j}')\n",
    "                mx3[i, k] += mx1[i, j] * mx2[j, k]\n",
    "    \n",
    "    return mx3\n",
    "            "
   ]
  },
  {
   "cell_type": "code",
   "execution_count": null,
   "metadata": {
    "scrolled": false
   },
   "outputs": [],
   "source": [
    "%time l3_loop = dot_prod(l1, l2)"
   ]
  },
  {
   "cell_type": "code",
   "execution_count": null,
   "metadata": {},
   "outputs": [],
   "source": [
    "l3_loop"
   ]
  },
  {
   "cell_type": "code",
   "execution_count": null,
   "metadata": {},
   "outputs": [],
   "source": [
    "%time l1 @ l2"
   ]
  },
  {
   "cell_type": "code",
   "execution_count": null,
   "metadata": {
    "scrolled": true
   },
   "outputs": [],
   "source": [
    "b1 = np.random.randn(500, 10000)\n",
    "b2 = np.random.randn(10000, 800)\n",
    "b1, b2"
   ]
  },
  {
   "cell_type": "code",
   "execution_count": null,
   "metadata": {},
   "outputs": [],
   "source": [
    "%time b3_loop = dot_prod(b1, b2)"
   ]
  },
  {
   "cell_type": "code",
   "execution_count": null,
   "metadata": {},
   "outputs": [],
   "source": [
    "def dot_prod_2(mx1, mx2, verbose = False):\n",
    "    mx3 = np.zeros((mx1.shape[0], mx2.shape[1]))\n",
    "    if verbose: print(f'mx3.shape = {mx3.shape}')\n",
    "    for i in range(mx1.shape[0]):\n",
    "        if verbose: print(f'i = {i}')\n",
    "        for k in range(mx2.shape[1]):\n",
    "            mx3[i, k] = mx1[i, :] @ mx2[:, k]\n",
    "            if verbose: \n",
    "                print(f'\\tk = {mx1[i:]}') \n",
    "                print(f'\\tk = {mx2[:, k]}')\n",
    "            \n",
    "            #mx3[i, k] = s\n",
    "    \n",
    "    return mx3"
   ]
  },
  {
   "cell_type": "code",
   "execution_count": null,
   "metadata": {
    "scrolled": true
   },
   "outputs": [],
   "source": [
    "%time l3_loop = dot_prod_2(l1, l2)"
   ]
  },
  {
   "cell_type": "code",
   "execution_count": null,
   "metadata": {},
   "outputs": [],
   "source": [
    "l3_loop"
   ]
  },
  {
   "cell_type": "code",
   "execution_count": null,
   "metadata": {
    "scrolled": true
   },
   "outputs": [],
   "source": [
    "%time b3_loop = dot_prod_2(b1, b2)"
   ]
  },
  {
   "cell_type": "markdown",
   "metadata": {},
   "source": [
    "Matrix vector multiplication"
   ]
  },
  {
   "cell_type": "code",
   "execution_count": null,
   "metadata": {},
   "outputs": [],
   "source": [
    "def dot_prod_3(mx1, mx2, verbose = False):\n",
    "    mx3 = np.zeros((mx1.shape[0], mx2.shape[1]))\n",
    "    if verbose: print(f'mx3.shape = {mx3.shape}')\n",
    "    for i in range(mx1.shape[0]):\n",
    "        if verbose: print(f'i = {i}')\n",
    "        mx3[i, :] = mx1[i, :] @ mx2\n",
    "        if verbose: \n",
    "            print(f'\\tk = {mx2[:, k]}')\n",
    "            \n",
    "            #mx3[i, k] = s\n",
    "    \n",
    "    return mx3"
   ]
  },
  {
   "cell_type": "code",
   "execution_count": null,
   "metadata": {},
   "outputs": [],
   "source": [
    "%time l3_loop = dot_prod_3(l1, l2)"
   ]
  },
  {
   "cell_type": "code",
   "execution_count": null,
   "metadata": {},
   "outputs": [],
   "source": [
    "l3_loop"
   ]
  },
  {
   "cell_type": "code",
   "execution_count": null,
   "metadata": {},
   "outputs": [],
   "source": [
    "%time b3_loop = dot_prod_3(b1, b2)"
   ]
  },
  {
   "cell_type": "markdown",
   "metadata": {},
   "source": [
    "## Vectorize version"
   ]
  },
  {
   "cell_type": "code",
   "execution_count": null,
   "metadata": {},
   "outputs": [],
   "source": [
    "%time l3_vec = l1 @ l2"
   ]
  },
  {
   "cell_type": "code",
   "execution_count": null,
   "metadata": {},
   "outputs": [],
   "source": [
    "l3_vec"
   ]
  },
  {
   "cell_type": "code",
   "execution_count": null,
   "metadata": {},
   "outputs": [],
   "source": [
    "%time b3_vec = b1 @ b2"
   ]
  },
  {
   "cell_type": "code",
   "execution_count": null,
   "metadata": {
    "scrolled": true
   },
   "outputs": [],
   "source": [
    "b3_vec"
   ]
  },
  {
   "cell_type": "code",
   "execution_count": null,
   "metadata": {},
   "outputs": [],
   "source": [
    "%time l3 = l1 @ l2"
   ]
  },
  {
   "cell_type": "code",
   "execution_count": null,
   "metadata": {},
   "outputs": [],
   "source": [
    "%time b3 = b1 @ b2"
   ]
  },
  {
   "cell_type": "code",
   "execution_count": null,
   "metadata": {},
   "outputs": [],
   "source": [
    "%time b3_vec = b1 @ b2"
   ]
  },
  {
   "cell_type": "markdown",
   "metadata": {},
   "source": [
    "## Functions on tensors"
   ]
  },
  {
   "cell_type": "markdown",
   "metadata": {},
   "source": [
    "We can define function $f:A \\to B$ where $A, B \\in \\mathbb{R}^{n1 \\times n2 \\dots \\times n_{k}}$ where function is defined elementwise $B_{i, j} = f(A_{i, j})$"
   ]
  },
  {
   "cell_type": "markdown",
   "metadata": {},
   "source": [
    "For instance function $f(x) = x + 5$ on matrix $A \\in \\mathbb{R}^{n \\times m}$ will give us $A + 5$"
   ]
  },
  {
   "cell_type": "code",
   "execution_count": null,
   "metadata": {},
   "outputs": [],
   "source": [
    "mt = np.array([[1, 2], [-1, -2], [0., 4.]])\n",
    "f = lambda x: x + 5\n",
    "print(mt) \n",
    "print(f(mt))\n",
    "print(mt + 5)"
   ]
  },
  {
   "cell_type": "code",
   "execution_count": null,
   "metadata": {},
   "outputs": [],
   "source": [
    "import math"
   ]
  },
  {
   "cell_type": "code",
   "execution_count": null,
   "metadata": {},
   "outputs": [],
   "source": [
    "f = lambda x: x**2"
   ]
  },
  {
   "cell_type": "code",
   "execution_count": null,
   "metadata": {},
   "outputs": [],
   "source": [
    "f(-1)"
   ]
  },
  {
   "cell_type": "code",
   "execution_count": null,
   "metadata": {},
   "outputs": [],
   "source": [
    "x = np.linspace(-5, 5, 1000)"
   ]
  },
  {
   "cell_type": "code",
   "execution_count": null,
   "metadata": {},
   "outputs": [],
   "source": [
    "fv = f #np.vectorize(f)"
   ]
  },
  {
   "cell_type": "code",
   "execution_count": null,
   "metadata": {},
   "outputs": [],
   "source": [
    "fx = fv(x)"
   ]
  },
  {
   "cell_type": "code",
   "execution_count": null,
   "metadata": {},
   "outputs": [],
   "source": [
    "x.shape, fx.shape"
   ]
  },
  {
   "cell_type": "code",
   "execution_count": null,
   "metadata": {},
   "outputs": [],
   "source": [
    "import matplotlib.pyplot as plt"
   ]
  },
  {
   "cell_type": "code",
   "execution_count": null,
   "metadata": {},
   "outputs": [],
   "source": [
    "plt.plot(x, fx)"
   ]
  },
  {
   "cell_type": "code",
   "execution_count": null,
   "metadata": {},
   "outputs": [],
   "source": [
    "sig = np.vectorize(lambda x: 1 / (1 + math.exp(-x)))"
   ]
  },
  {
   "cell_type": "code",
   "execution_count": null,
   "metadata": {},
   "outputs": [],
   "source": [
    "plt.plot(x, sig(x))"
   ]
  },
  {
   "cell_type": "code",
   "execution_count": null,
   "metadata": {},
   "outputs": [],
   "source": [
    "plt.plot(x, sig(x))\n",
    "plt.grid()"
   ]
  },
  {
   "cell_type": "markdown",
   "metadata": {},
   "source": [
    "## Images as tensors and matrices"
   ]
  },
  {
   "cell_type": "code",
   "execution_count": null,
   "metadata": {},
   "outputs": [],
   "source": [
    "import cv2"
   ]
  },
  {
   "cell_type": "code",
   "execution_count": null,
   "metadata": {},
   "outputs": [],
   "source": [
    "! pip install opencv-python"
   ]
  },
  {
   "cell_type": "code",
   "execution_count": null,
   "metadata": {},
   "outputs": [],
   "source": [
    "path = r'C:\\Users\\okroshiashvili\\Desktop\\GitHub\\MAISAI\\images\\tbilisi1.jpg'"
   ]
  },
  {
   "cell_type": "code",
   "execution_count": null,
   "metadata": {},
   "outputs": [],
   "source": [
    "img_brg = cv2.imread(path,cv2.IMREAD_ANYCOLOR)"
   ]
  },
  {
   "cell_type": "code",
   "execution_count": null,
   "metadata": {},
   "outputs": [],
   "source": [
    "type(img_brg), img_brg.shape"
   ]
  },
  {
   "cell_type": "code",
   "execution_count": null,
   "metadata": {
    "scrolled": true
   },
   "outputs": [],
   "source": [
    "plt.figure(figsize=(50, 50))\n",
    "plt.imshow(img_brg, cmap=None)\n",
    "plt.show()"
   ]
  },
  {
   "cell_type": "code",
   "execution_count": null,
   "metadata": {},
   "outputs": [],
   "source": [
    "img = cv2.cvtColor(img_brg, cv2.COLOR_RGB2BGR)"
   ]
  },
  {
   "cell_type": "code",
   "execution_count": null,
   "metadata": {},
   "outputs": [],
   "source": [
    "import matplotlib.pyplot as plt"
   ]
  },
  {
   "cell_type": "code",
   "execution_count": null,
   "metadata": {},
   "outputs": [],
   "source": [
    "def show_img(im, figsize=(50, 50), cmap=None):\n",
    "    plt.figure(figsize=figsize)\n",
    "    plt.imshow(im, cmap=cmap)\n",
    "    plt.show()"
   ]
  },
  {
   "cell_type": "code",
   "execution_count": null,
   "metadata": {},
   "outputs": [],
   "source": [
    "show_img(img)"
   ]
  },
  {
   "cell_type": "code",
   "execution_count": null,
   "metadata": {},
   "outputs": [],
   "source": [
    "gray = cv2.cvtColor(img, cv2.COLOR_RGB2GRAY)"
   ]
  },
  {
   "cell_type": "code",
   "execution_count": null,
   "metadata": {
    "scrolled": true
   },
   "outputs": [],
   "source": [
    "show_img(gray, cmap='gray')"
   ]
  },
  {
   "cell_type": "code",
   "execution_count": null,
   "metadata": {},
   "outputs": [],
   "source": [
    "gray_t = gray.T"
   ]
  },
  {
   "cell_type": "code",
   "execution_count": null,
   "metadata": {
    "scrolled": true
   },
   "outputs": [],
   "source": [
    "gray_t.shape\n",
    "show_img(gray_t, cmap='gray')"
   ]
  },
  {
   "cell_type": "code",
   "execution_count": null,
   "metadata": {
    "scrolled": true
   },
   "outputs": [],
   "source": [
    "show_img(gray - 100, cmap='gray')"
   ]
  },
  {
   "cell_type": "markdown",
   "metadata": {},
   "source": [
    "## Example 1"
   ]
  },
  {
   "cell_type": "code",
   "execution_count": null,
   "metadata": {},
   "outputs": [],
   "source": [
    "X = np.random.rand(10)\n",
    "A = np.random.rand(10)\n",
    "b = np.random.rand(1)"
   ]
  },
  {
   "cell_type": "code",
   "execution_count": null,
   "metadata": {},
   "outputs": [],
   "source": [
    "A @ X + b"
   ]
  },
  {
   "cell_type": "code",
   "execution_count": null,
   "metadata": {},
   "outputs": [],
   "source": [
    "sig(A @ X + b)"
   ]
  },
  {
   "cell_type": "markdown",
   "metadata": {},
   "source": [
    "## Example 2"
   ]
  },
  {
   "cell_type": "code",
   "execution_count": null,
   "metadata": {},
   "outputs": [],
   "source": [
    "W = np.array([20, 20]) # Weights\n",
    "b = np.array([-30]) # bias"
   ]
  },
  {
   "cell_type": "code",
   "execution_count": null,
   "metadata": {},
   "outputs": [],
   "source": [
    "X = np.array([1, 0])"
   ]
  },
  {
   "cell_type": "code",
   "execution_count": null,
   "metadata": {},
   "outputs": [],
   "source": [
    "d = sig(W @ X + b)"
   ]
  },
  {
   "cell_type": "code",
   "execution_count": null,
   "metadata": {},
   "outputs": [],
   "source": [
    "np.around(d, decimals=1)"
   ]
  },
  {
   "cell_type": "code",
   "execution_count": null,
   "metadata": {},
   "outputs": [],
   "source": [
    "ff = lambda _X, _W, _b: sig(np.dot(_W.T, _X) + _b)"
   ]
  },
  {
   "cell_type": "code",
   "execution_count": null,
   "metadata": {},
   "outputs": [],
   "source": [
    "BA = [[0, 0], [0, 1], [1, 0], [1, 1]]"
   ]
  },
  {
   "cell_type": "code",
   "execution_count": null,
   "metadata": {},
   "outputs": [],
   "source": [
    "for ba in BA:\n",
    "    print(ba, np.around(ff(ba, W, b), decimals=1))"
   ]
  },
  {
   "cell_type": "markdown",
   "metadata": {},
   "source": [
    "Change bias"
   ]
  },
  {
   "cell_type": "code",
   "execution_count": null,
   "metadata": {},
   "outputs": [],
   "source": [
    "b = np.array([-10])"
   ]
  },
  {
   "cell_type": "code",
   "execution_count": null,
   "metadata": {},
   "outputs": [],
   "source": [
    "for ba in BA:\n",
    "    print(ba, np.around(ff(ba, W, b), decimals=1))"
   ]
  },
  {
   "cell_type": "markdown",
   "metadata": {},
   "source": [
    "# Write combination for $XOR$ calculation"
   ]
  },
  {
   "cell_type": "markdown",
   "metadata": {},
   "source": [
    "XOR gate gives True when both gate differs from each other, otherwise gives False."
   ]
  },
  {
   "cell_type": "code",
   "execution_count": 1,
   "metadata": {},
   "outputs": [],
   "source": [
    "import numpy as np"
   ]
  },
  {
   "cell_type": "code",
   "execution_count": 2,
   "metadata": {},
   "outputs": [],
   "source": [
    "def sigmoid(x):\n",
    "    return 1 / (1 + np.exp(-x))\n",
    "\n",
    "\n",
    "def sigmoid_derivative(x):\n",
    "    return x * (1 - x)\n"
   ]
  },
  {
   "cell_type": "code",
   "execution_count": 3,
   "metadata": {},
   "outputs": [],
   "source": [
    "inputs = np.array([[0,0],[0,1],[1,0],[1,1]])\n",
    "\n",
    "expected_outputs = np.array([[0],[1],[1],[0]])"
   ]
  },
  {
   "cell_type": "code",
   "execution_count": 4,
   "metadata": {},
   "outputs": [],
   "source": [
    "# Network hyperparameters\n",
    "\n",
    "epochs = 10000\n",
    "\n",
    "lr = 0.1\n",
    "\n",
    "input_neurons, hidden_neurons, output_neurons = 2,2,1"
   ]
  },
  {
   "cell_type": "code",
   "execution_count": 5,
   "metadata": {},
   "outputs": [],
   "source": [
    "# Initialize random weights and bias\n",
    "\n",
    "hidden_weights = np.random.uniform(size=(input_neurons,hidden_neurons))\n",
    "\n",
    "hidden_bias =np.random.uniform(size=(1,hidden_neurons))\n",
    "\n",
    "output_weights = np.random.uniform(size=(hidden_neurons,output_neurons))\n",
    "\n",
    "output_bias = np.random.uniform(size=(1,output_neurons))"
   ]
  },
  {
   "cell_type": "code",
   "execution_count": 6,
   "metadata": {},
   "outputs": [
    {
     "name": "stdout",
     "output_type": "stream",
     "text": [
      "Initial hidden weights: [0.65157906 0.82749257] [0.73205371 0.95056427]\n",
      "Initial hidden biases: [0.33147562 0.31491792]\n",
      "Initial output weights: [0.99832224] [0.50295119]\n",
      "Initial output biases: [0.92699126]\n"
     ]
    }
   ],
   "source": [
    "print(\"Initial hidden weights: \",end='')\n",
    "print(*hidden_weights)\n",
    "print(\"Initial hidden biases: \",end='')\n",
    "print(*hidden_bias)\n",
    "print(\"Initial output weights: \",end='')\n",
    "print(*output_weights)\n",
    "print(\"Initial output biases: \",end='')\n",
    "print(*output_bias)"
   ]
  },
  {
   "cell_type": "code",
   "execution_count": 7,
   "metadata": {},
   "outputs": [],
   "source": [
    "#Training algorithm\n",
    "for _ in range(epochs):\n",
    "    \n",
    "    #Forward Propagation\n",
    "    hidden_layer_activation = np.dot(inputs,hidden_weights) + hidden_bias\n",
    "    hidden_layer_output = sigmoid(hidden_layer_activation)\n",
    "\n",
    "    output_layer_activation = np.dot(hidden_layer_output,output_weights) + output_bias\n",
    "    predicted_output = sigmoid(output_layer_activation)\n",
    "\n",
    "    #Backpropagation\n",
    "    error = expected_outputs - predicted_output\n",
    "    d_predicted_output = error * sigmoid_derivative(predicted_output)\n",
    "\n",
    "    error_hidden_layer = d_predicted_output.dot(output_weights.T)\n",
    "    d_hidden_layer = error_hidden_layer * sigmoid_derivative(hidden_layer_output)\n",
    "\n",
    "    #Updating Weights and Biases\n",
    "    output_weights = output_weights + hidden_layer_output.T.dot(d_predicted_output) * lr\n",
    "    output_bias = output_bias + np.sum(d_predicted_output,axis=0,keepdims=True) * lr\n",
    "    \n",
    "    hidden_weights = hidden_weights + inputs.T.dot(d_hidden_layer) * lr\n",
    "    hidden_bias = hidden_bias + np.sum(d_hidden_layer,axis=0,keepdims=True) * lr"
   ]
  },
  {
   "cell_type": "code",
   "execution_count": 8,
   "metadata": {},
   "outputs": [
    {
     "name": "stdout",
     "output_type": "stream",
     "text": [
      "Final hidden weights: [5.8099936  3.72658688] [5.81945544 3.72843471]\n",
      "Final hidden bias: [-2.40545056 -5.69998043]\n",
      "Final output weights: [7.47865356] [-8.065692]\n",
      "Final output bias: [-3.38467525]\n"
     ]
    }
   ],
   "source": [
    "print(\"Final hidden weights: \",end='')\n",
    "print(*hidden_weights)\n",
    "print(\"Final hidden bias: \",end='')\n",
    "print(*hidden_bias)\n",
    "print(\"Final output weights: \",end='')\n",
    "print(*output_weights)\n",
    "print(\"Final output bias: \",end='')\n",
    "print(*output_bias)"
   ]
  },
  {
   "cell_type": "code",
   "execution_count": 9,
   "metadata": {},
   "outputs": [
    {
     "name": "stdout",
     "output_type": "stream",
     "text": [
      "Output from neural network after 10,000 epochs: [0.05772779] [0.94633218] [0.94630198] [0.0582306]\n"
     ]
    }
   ],
   "source": [
    "print(\"Output from neural network after 10,000 epochs: \",end='')\n",
    "print(*predicted_output)"
   ]
  },
  {
   "cell_type": "markdown",
   "metadata": {},
   "source": [
    "### From output, we see that the network converged towards expected output"
   ]
  },
  {
   "cell_type": "code",
   "execution_count": null,
   "metadata": {},
   "outputs": [],
   "source": []
  },
  {
   "cell_type": "code",
   "execution_count": null,
   "metadata": {},
   "outputs": [],
   "source": []
  }
 ],
 "metadata": {
  "kernelspec": {
   "display_name": "Python 3",
   "language": "python",
   "name": "python3"
  },
  "language_info": {
   "codemirror_mode": {
    "name": "ipython",
    "version": 3
   },
   "file_extension": ".py",
   "mimetype": "text/x-python",
   "name": "python",
   "nbconvert_exporter": "python",
   "pygments_lexer": "ipython3",
   "version": "3.6.9"
  }
 },
 "nbformat": 4,
 "nbformat_minor": 4
}
