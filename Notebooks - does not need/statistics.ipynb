{
 "cells": [
  {
   "cell_type": "code",
   "execution_count": 1,
   "metadata": {},
   "outputs": [],
   "source": [
    "import numpy as np\n",
    "import matplotlib.pyplot as plt\n",
    "import seaborn as sns\n",
    "from scipy.stats import norm\n",
    "\n",
    "sns.set(color_codes=True)\n",
    "\n",
    "import torch\n",
    "import torch.distributions as dst\n",
    "\n",
    "%matplotlib inline"
   ]
  },
  {
   "cell_type": "markdown",
   "metadata": {},
   "source": [
    "# Statistics"
   ]
  },
  {
   "cell_type": "markdown",
   "metadata": {},
   "source": [
    "## Definition\n",
    "\n",
    "<b>Statistics</b> is the discipline that concerns the collection, organization, displaying, analysis, interpretation and presentation of data <i>(Wikipedia)</i>.\n",
    "\n",
    "In statistics and probability we usually consider two main concepts:<br />\n",
    "1) <b>Sample Data</b> - The data we work with (usually, some numerical values). <br />\n",
    "2) <b>Data Generating Process</b> - Some abstract or concrete process that we assume have generated our data. Often we describe such process with probability distribution or some parametric family of probability distributions (e.g Benoulli with potential parameter $p\\in[0.4, 0.7]$). <br /><br />\n",
    "Examples:<br />\n",
    "100 coin flip results generated from flipping fair coin (Bernoulli(p=0.5))<br />\n",
    "Heights of 500 individuals from population of Georgian citizens.<br />\n",
    "10000 Celebrity faces from all the celebrity face pictures over the Internet.<br />\n",
    "...."
   ]
  },
  {
   "cell_type": "markdown",
   "metadata": {},
   "source": [
    "## Probability VS Statistics\n",
    "\n",
    "<img src='images/stats/stats-vs-prob.png' style='height: 200px'>\n",
    "<br />\n",
    "<p><big>\n",
    "    Given a <b>data generating process (e.g. probability distribution)</b> with known parameters, the goal of <b>probability</b> is to make statements about data to be observed.\n",
    "</big></p>\n",
    "<ul><li>What is the probability of observing heads in case of flipping fair coin?</li></ul>\n",
    "<p><big>\n",
    "    Given a <b>sample data</b>, the goal of <b>Statistics</b> is to make statements about the <b>unknown properties</b> of the underlying <b>data generating process</b>.\n",
    "</big></p>\n",
    "<ul><li>Given 100 coin flip results, what's the bias of the coin (is coin fair)?</li>\n",
    "</ul>\n",
    "\n",
    "### Machine Learning\n",
    "\n",
    "Machine learning is closely related to Statistics. ML can be seen as a bunch of computer algorithms for learning data generating process properties from the data."
   ]
  },
  {
   "cell_type": "markdown",
   "metadata": {},
   "source": [
    "## Gaussian Distribution & Basic Concepts\n",
    "\n",
    "Gaussian Distribution is a continous probability distribution which has a PDF of following form:\n",
    "\n",
    "$f(x \\mid \\mu, \\sigma^2) = \\frac{1}{\\sqrt{2\\pi\\sigma^2} } e^{ -\\frac{(x-\\mu)^2}{2\\sigma^2} }\n",
    "$\n",
    "\n",
    "parameters of the distribution are:\n",
    "\n",
    "$\\mu$ - is a mean (a.k.a. center) of the distribution.<br />\n",
    "$\\sigma^2$ - is a variance of the distribution.\n",
    "\n",
    "Gaussian with zero mean and unit variance is usually called <b>standard normal<b/> distribution.\n",
    "\n",
    "Below is the visualization of the PDF with different parameters:"
   ]
  },
  {
   "cell_type": "code",
   "execution_count": null,
   "metadata": {},
   "outputs": [],
   "source": [
    "def create_gaussian_pdf(mu, sigma):\n",
    "    \n",
    "    return lambda x: 1 / np.sqrt(2 * np.pi * sigma ** 2) * np.exp(- (x - mu) ** 2 / (2 * sigma ** 2))\n",
    "\n",
    "def plot_dist(pdf):\n",
    "    \n",
    "    x = np.linspace(-4, 4, num=100)\n",
    "    y = pdf(x)\n",
    "\n",
    "    plt.plot(x, y)\n",
    "    \n",
    "plot_dist(create_gaussian_pdf(0, 1))"
   ]
  },
  {
   "cell_type": "code",
   "execution_count": null,
   "metadata": {},
   "outputs": [],
   "source": [
    "plot_dist(create_gaussian_pdf(0, 2))"
   ]
  },
  {
   "cell_type": "code",
   "execution_count": null,
   "metadata": {},
   "outputs": [],
   "source": [
    "plot_dist(create_gaussian_pdf(0, 0.5))"
   ]
  },
  {
   "cell_type": "code",
   "execution_count": null,
   "metadata": {},
   "outputs": [],
   "source": [
    "plot_dist(create_gaussian_pdf(1, 0.5))"
   ]
  },
  {
   "cell_type": "markdown",
   "metadata": {},
   "source": [
    "### Central Limit Theoreom"
   ]
  },
  {
   "cell_type": "markdown",
   "metadata": {},
   "source": [
    "Let, $X_{1}, X_{2}, ..., X_{N}$ be <b>iid (identically and independently distributed)</b> random variables with the mean ( $\\operatorname{E}[X_{i}]=\\mu$ ) and finite variance ( $Var[X_{i}]=\\sigma^2<\\infty$ )\n",
    "\n",
    "Let, $S_n := \\frac{X_1+\\cdots+X_n}{n}$ be a sample mean (which itself is a random variable)\n",
    "\n",
    "<br />\n",
    "\n",
    "<b>Theorem (CLT):</b><br />\n",
    "As $n\\rightarrow{\\infty}$, \n",
    "$\\sqrt{n}\\left(S_n - \\mu\\right)\\ \\xrightarrow{d}\\ N\\left(0,\\sigma^2\\right)$\n",
    "\n",
    "or, equivalently\n",
    "\n",
    "$\\frac{\\sqrt{n}}{\\sigma}\\left(S_n - \\mu\\right)\\ \\xrightarrow{d}\\ N\\left(0,1\\right)$\n",
    "\n",
    "\n",
    "<br />\n",
    "\n",
    "Let's visualize the result of this theorem on coin flip example:"
   ]
  },
  {
   "cell_type": "code",
   "execution_count": null,
   "metadata": {},
   "outputs": [],
   "source": [
    "def sample_bernoulli(p):\n",
    "    return int(np.random.rand() < p)\n",
    "\n",
    "def generate_bernoulli_sample(p, sample_size):\n",
    "    \n",
    "    return [sample_bernoulli(p) for _ in range(sample_size)]\n",
    "\n",
    "def sample_sn(p, n):\n",
    "    \n",
    "    return np.mean(generate_bernoulli_sample(p, n))\n",
    "\n",
    "def scale(x, n, mu, sigma):\n",
    "    \n",
    "    return np.sqrt(n) * (x - mu) / sigma\n",
    "\n",
    "# plotting sample mean distribution for different sample sizes.\n",
    "p = 0.8\n",
    "for n in [5, 10, 50, 500]:\n",
    "    plt.hist([scale(sample_sn(p, n=n), n, p, np.sqrt(p * (1 - p))) for _ in range(1000)], bins=30)\n",
    "    plt.show()"
   ]
  },
  {
   "cell_type": "markdown",
   "metadata": {},
   "source": [
    "Now, let's perform same vizualization experiment with Exponential random variables.\n",
    "\n",
    "Recall that exponential random variable is continous random variable with PDF:\n",
    "\n",
    "$f(x;\\lambda) = \\begin{cases}\n",
    "\\lambda e^{-\\lambda x} & x \\ge 0, \\\\\n",
    "0 & x < 0.\n",
    "\\end{cases}$\n",
    "\n",
    "$\\operatorname{E}[X]=\\frac{1}{\\lambda}$<br />\n",
    "$\\operatorname{Var}[X]=\\frac{1}{\\lambda^2}$"
   ]
  },
  {
   "cell_type": "code",
   "execution_count": null,
   "metadata": {},
   "outputs": [],
   "source": [
    "# same visualizations but not for Exponential random variable with parameter lambda=2 \n",
    "\n",
    "def generate_exponential_sample(l, sample_size):\n",
    "    dist = torch.distributions.Exponential(l)\n",
    "    return [dist.sample().item() for _ in range(sample_size)]\n",
    "\n",
    "def sample_sn(p, n):\n",
    "    \n",
    "    return np.mean(generate_exponential_sample(p, n))\n",
    "\n",
    "def scale(x, n, mu, sigma):\n",
    "    \n",
    "    return np.sqrt(n) * (x - mu) / sigma\n",
    "\n",
    "# plotting sample mean distribution for different sample sizes.\n",
    "for n in [5, 100, 500]:\n",
    "    plt.hist([scale(sample_sn(2, n=n), n, 1/2, 1/4) for _ in range(1000)], bins=30)\n",
    "    plt.show()"
   ]
  },
  {
   "cell_type": "markdown",
   "metadata": {},
   "source": [
    "## Application of CLT - Asymptotic Confidence Intervals\n",
    "\n",
    "In statistics, confidence intervals are used to measure the \"quality of estimation\".\n",
    "\n",
    "Let's say we have iid sample $X_{1}, X_{2}, ..., X_{n} \\sim Bernoulli(p)$ with some unknown $p$.\n",
    "\n",
    "We want to estimate unknown $p$ by using empirical average $\\overline{X}_n=\\sum_{k=1}^n X_k$<br /> (by the low of large numbers $\\overline{X}_n\\ \\xrightarrow{P}\\ \\mu \\qquad\\textrm{when}\\ n \\to \\infty$)\n",
    "\n",
    "After calculating empirical average, we want to compute <b>confidence interval of level $1-\\alpha$</b> for our estimator. Mathematically, we want to calculate interval $I$ from our data, so that $\\lim_{n\\to\\infty} P(\\overline{X}_n\\in I)= 1-\\alpha$\n",
    "\n",
    "(Note that, confidence interval $I$ is itself a random variable and is calculated solely from the data.)\n",
    "\n",
    "In this usecase, we will be using confidence interval centered around empirical average of form $[\\overline{X}_n-s; \\overline{X}_n+s]$ with some $s>0$.\n",
    "\n",
    "We have,<br />\n",
    "$\\lim_{n\\to\\infty}P(p\\in [\\overline{X}_n-s; \\overline{X}_n+s])= 1-\\alpha$<br />\n",
    "$\\lim_{n\\to\\infty}P(\\overline{X}_n-s\\le p \\le \\overline{X}_n+s)= 1-\\alpha$<br />\n",
    "$\\lim_{n\\to\\infty}P(|\\overline{X}_n-p|\\le s)= 1-\\alpha$<br />\n",
    "$\\lim_{n\\to\\infty}P(\\frac{\\sqrt{n}}{\\sigma}|\\overline{X}_n-p|\\le \\frac{\\sqrt{n}}{\\sigma} s)= 1-\\alpha$<br />\n",
    "$\\lim_{n\\to\\infty}P(|Z|\\le \\frac{\\sqrt{n}}{\\sigma} s)= 1-\\alpha, \\qquad Z\\sim N(0, 1)$<br />\n",
    "\n",
    "Note that, $P(|Z|\\le t)=CDF(t)-CDF(-t)=CDF(t)-(1-CDF(t))=2CDF(t)-1=\\alpha$<br />\n",
    "$CDF(t)=1-\\frac{1}{\\alpha}$<br />\n",
    "$t = Q(1-\\frac{\\alpha}{2})=q_{\\frac{\\alpha}{2}}$, where $Q$ is quantile function of standard gaussian.<br />\n",
    "\n",
    "From above, if  $t=\\frac{\\sqrt{n}}{\\sigma} s$, $s=\\frac{\\sigma}{\\sqrt{n}} t=\\frac{\\sigma}{\\sqrt{n}}q_{\\frac{\\alpha}{2}}$<br />\n",
    "\n",
    "Finally, by substituting we get<br />\n",
    "$\\lim_{n\\to\\infty}P(p\\in [\\overline{X}_n-\\frac{\\sigma}{\\sqrt{n}}q_{\\frac{\\alpha}{2}}; \\overline{X}_n+\\frac{\\sigma}{\\sqrt{n}}q_{\\frac{\\alpha}{2}}])= 1-\\alpha$, where $\\sigma^2=p(1-p)\\approx \\overline{X}_n(1-\\overline{X}_n)$"
   ]
  },
  {
   "cell_type": "code",
   "execution_count": null,
   "metadata": {},
   "outputs": [],
   "source": [
    "x = generate_bernoulli_sample(0.5, sample_size=5000)\n",
    "x[:20]"
   ]
  },
  {
   "cell_type": "code",
   "execution_count": null,
   "metadata": {},
   "outputs": [],
   "source": [
    "def bern_conf_interval(x, n, alpha):\n",
    "    \"\"\"Calculate asymptotic confidence interval of level 1-alpha for Bernoulli parameter p.\"\"\"\n",
    "    \n",
    "    avg = np.mean(x)\n",
    "    \n",
    "    # can also use torch.distributions.Normal(0, 1).icdf()\n",
    "    q = norm.ppf(1 - alpha / 2)\n",
    "\n",
    "    s = np.sqrt(avg * (1 - avg) / n) * q\n",
    "    \n",
    "    return [avg - s, avg + s]\n",
    "\n",
    "I = bern_conf_interval(x, 100, 0.05)\n",
    "I"
   ]
  },
  {
   "cell_type": "code",
   "execution_count": null,
   "metadata": {},
   "outputs": [],
   "source": [
    "# calculating the proportion of cases when true parameter falls within our confidence interval \n",
    "\n",
    "p = 0.5 # true mean of the distribution\n",
    "alpha = 0.05 # confidence interval of level 95%\n",
    "\n",
    "count = 0\n",
    "for i in range(500):\n",
    "    x = generate_bernoulli_sample(p, sample_size=500)\n",
    "    I = bern_conf_interval(x, 500, alpha)\n",
    "    if I[0] <= p <= I[1]:\n",
    "        count += 1\n",
    "        \n",
    "count / 500"
   ]
  },
  {
   "cell_type": "markdown",
   "metadata": {},
   "source": [
    "### Linear Regression Model (Theory)\n",
    "<br /><br />\n",
    "<b>Linear Regression</b> is one of the fundamental concepts in Machine Learning and Data Science. It is used when there is an assumption of <b>linear relationship</b> betweeen predictors/features $X_i$ and a dependent variable (label) $Y_i$\n",
    "\n",
    "Examples:\n",
    "<ul>\n",
    "    <li>Predict human <b>height</b> $Y$ given features: <b>$X_1$ = Age</b>, <b>$X_2$ = Gender</b>, <b>$X_3$ = Father's height</b></li>\n",
    "    <li>Predict <b>house price</b> $Y$ given features: <b>$X_1$ = Area</b>, <b>$X_2$ = # of bedrooms</b>, <b>$X_3$ = location</b>, <b>$X_3$ = # year built</b></li>\n",
    "</ul>\n",
    "\n",
    "In above cases, we assume that there are coefficients $\\alpha, \\beta, \\gamma$, such that $Y \\approx \\alpha * X_1 + \\beta * X_2 + \\gamma * X_3$. Our goal is to find these coefficients.\n",
    "\n",
    "<br /><br /><br />\n",
    "<b>Task Formulation:</b><br /><br />\n",
    "Lets, $(X_1, Y_1), (X_2, Y_2), ..., (X_{n}, Y_{n}) \\overset{iid}{\\sim} \\mathbb{R}^d\\times\\mathbb{R}$ and the relationship between $X_{i}$ and $Y_{i}$ is given by linearity (with random noise)\n",
    "$Y_{i}=\\theta^TX_{i}+\\epsilon_{i}$\n",
    "<br /><br />\n",
    "Lets also assume that $X_{i}\\sim\\mathcal{N}(0,\\,I_d)$ and $\\epsilon_i\\sim\\mathcal{N}(0,\\,1)$\n",
    "<br /><br />\n",
    "Together with these assumptions, the above linearity is called <b>linear regression model</b> parametrized by vector $\\theta\\in\\mathbb{R}^d$\n",
    "<br /><br />\n",
    "The above definitions imply that conditional density of $Y$ is defined as follows: $P_\\theta(Y_{i}|x)=\\mathcal{N}(\\theta^Tx_{i}, 1)$\n",
    "<br /><br />\n",
    "Consequently, the data generating process can be thought as if we first sample $X$ from multivariate standard normal distribution and, afterwards, use above conditional density to sample corresponding $Y$\n",
    "<br /><br /><br />\n",
    "<b>The Maximum Likelihood Estimator for Linear Regression Model</b>\n",
    "\n",
    "Generally, the true parameter $\\theta$, that generated our observations, is unknown to us. Therefore, our goal is to find an estimate $\\hat{\\theta}$ from our data.\n",
    "\n",
    "Method of <b>maximum likelihood estimation</b> tries to find estimator $\\hat{\\theta}_{MLE}$ so that our observed data becomes most probable under the assumed statistical model (data generating process) if we used $\\hat{\\theta}_{MLE}$ as a parameter. \n",
    "\n",
    "The probability of our observed data under a particular $\\theta$ can be described as a function of $\\theta$: $L(\\theta)=\\prod_{i=1}^{n} P_\\theta(Y_{i}|x_i)$ \n",
    "\n",
    "Then, $\\hat{\\theta}_{MLE}=\\underset{\\theta\\in\\mathbb{R}^d}{\\mathrm{argmax}} L(\\theta)=\\underset{\\theta\\in\\mathbb{R}^d}{\\mathrm{argmax}} \\ln(L(\\theta))$<br />\n",
    "The latter is valid because $ln(x)$ is increazing function on its domain.\n",
    "<br /><br />\n",
    "\n",
    "$\\ln{L(\\theta)}=\\sum_{i=1}^{n}\\ln{\\mathcal{N}(\\theta^Tx_{i}, 1)}=\\sum_{i=1}^{n}\\ln{\\frac{1}{\\sqrt{2\\pi\\sigma^2} } exp( -\\frac{(y_i-\\theta^T x_i)^2}{2\\sigma^2})}=\\ln{\\frac{n}{\\sqrt{2\\pi\\sigma^2}}}-\\frac{1}{2\\sigma^2}\\sum_{i=1}^n(y_i-\\theta^T x_i)^2$<br /><br />\n",
    "$\\hat{\\theta}_{MLE}=\\underset{\\theta\\in\\mathbb{R}^d}{\\mathrm{argmax}} L(\\theta)=\\underset{\\theta\\in\\mathbb{R}^d}{\\mathrm{argmin}}\\sum_{i=1}^n(y_i-\\theta^T x_i)^2$<br />\n",
    "\n",
    "NOTE 1: we end up optimizing something very similar to so called <b>Quadratic Loss</b> which is standard loss function used for training linear models in Machine Learning. <br />\n",
    "NOTE 2: Optimization function is <b>convex</b> so there exists global unique minimizer."
   ]
  },
  {
   "cell_type": "markdown",
   "metadata": {},
   "source": [
    "# Some Concepts of Information Theory"
   ]
  },
  {
   "cell_type": "markdown",
   "metadata": {},
   "source": [
    "In Statistics and Machine Learning there is often a requirement of having some kind of <b>distance</b> notion between probability distributions. In other words, we want to know how similar of different are two probability distributions and, moreover, we want to quantify this similarity.\n",
    "\n",
    "<br /><br />\n",
    "<b><big>Measure of Information Content</big></b>\n",
    "\n",
    "Given some probability space $(\\Omega, \\mathcal{F}, P)$, let $A\\subset \\mathcal{F}$ is some event. <b>Information content / self-information / surprisal</b> of an event $A$ is defined as follows:<br /><br />\n",
    "$I(A)=-logP(A)=log\\frac{1}{P(A)}$<br /><br />\n",
    "Based on the definition, information of event $A$ measures \"how much unlikely\" is event $A$, i.e \"how much surprised\" shall we be by observing $A$.<br /><br />\n",
    "Examples:<br />\n",
    "Let's assume we toss 6-sided fair dice and observe the outcome. Let's define events: A = {result <= 6}, B = {result is odd}, C = {result is 6}\n",
    "<ul>\n",
    "    <li>$I(A)=-log(1)=0$ - event $A$ has \"no surprise\" because we already knew that A is sure event. No information content</li>\n",
    "    <li>$I(B)=-log(0.5)=1$ - event $B$ has \"surpriseness\"/\"information content\" of 1. We get some information - we can rule out that observation is even.</li>\n",
    "    <li>$I(C)=-log(\\frac{1}{6})\\approx2.58$ - event $C$ has smallest probability so carries the most \"surprise\".</li>\n",
    "</ul>\n",
    "\n",
    "<b>Conclusion:</b> Rare events have high information content.<br /><br />\n",
    "\n",
    "<b><big>Entropy</big></b>\n",
    "<br /><br />\n",
    "Let $p(X)$ be a probability mass function for some random variable $X$.\n",
    "\n",
    "<b>Entropy</b> of a random variable $X$ is defined as an expectation of the information content of it's outcomes:<br /><br />\n",
    "$H(X)=\\mathbb{E}_p[I_p(X)]=-\\sum_{i=1}^{n}p(x_i)logp(x_i)$   ($x_i$ are possible values of $X$)"
   ]
  },
  {
   "cell_type": "code",
   "execution_count": 2,
   "metadata": {},
   "outputs": [],
   "source": [
    "def entropy(x):\n",
    "    return -np.sum(x * np.log2(x))\n",
    "\n",
    "def bar_plot(x):\n",
    "    plt.bar(list(range(len(x))), x)"
   ]
  },
  {
   "cell_type": "code",
   "execution_count": 3,
   "metadata": {},
   "outputs": [
    {
     "data": {
      "image/png": "[encoded data removed]",
      "text/plain": [
       "<Figure size 432x288 with 1 Axes>"
      ]
     },
     "metadata": {
      "needs_background": "light"
     },
     "output_type": "display_data"
    }
   ],
   "source": [
    "x = [0.5, 0.5]\n",
    "\n",
    "bar_plot(x)"
   ]
  },
  {
   "cell_type": "code",
   "execution_count": 4,
   "metadata": {},
   "outputs": [
    {
     "data": {
      "text/plain": [
       "1.0"
      ]
     },
     "execution_count": 4,
     "metadata": {},
     "output_type": "execute_result"
    }
   ],
   "source": [
    "entropy(x)"
   ]
  },
  {
   "cell_type": "code",
   "execution_count": 5,
   "metadata": {},
   "outputs": [
    {
     "data": {
      "image/png": "[encoded data removed]",
      "text/plain": [
       "<Figure size 432x288 with 1 Axes>"
      ]
     },
     "metadata": {
      "needs_background": "light"
     },
     "output_type": "display_data"
    }
   ],
   "source": [
    "x = [0.45, 0.55]\n",
    "\n",
    "bar_plot(x)"
   ]
  },
  {
   "cell_type": "code",
   "execution_count": 6,
   "metadata": {},
   "outputs": [
    {
     "data": {
      "text/plain": [
       "0.9927744539878083"
      ]
     },
     "execution_count": 6,
     "metadata": {},
     "output_type": "execute_result"
    }
   ],
   "source": [
    "entropy(x)"
   ]
  },
  {
   "cell_type": "code",
   "execution_count": 7,
   "metadata": {},
   "outputs": [
    {
     "data": {
      "image/png": "[encoded data removed]",
      "text/plain": [
       "<Figure size 432x288 with 1 Axes>"
      ]
     },
     "metadata": {
      "needs_background": "light"
     },
     "output_type": "display_data"
    }
   ],
   "source": [
    "x = [0.9, 0.1]\n",
    "\n",
    "bar_plot(x)"
   ]
  },
  {
   "cell_type": "code",
   "execution_count": 8,
   "metadata": {},
   "outputs": [
    {
     "data": {
      "text/plain": [
       "0.4689955935892812"
      ]
     },
     "execution_count": 8,
     "metadata": {},
     "output_type": "execute_result"
    }
   ],
   "source": [
    "entropy(x)"
   ]
  },
  {
   "cell_type": "code",
   "execution_count": 9,
   "metadata": {},
   "outputs": [
    {
     "data": {
      "text/plain": [
       "2.321928094887362"
      ]
     },
     "execution_count": 9,
     "metadata": {},
     "output_type": "execute_result"
    },
    {
     "data": {
      "image/png": "[encoded data removed]",
      "text/plain": [
       "<Figure size 432x288 with 1 Axes>"
      ]
     },
     "metadata": {
      "needs_background": "light"
     },
     "output_type": "display_data"
    }
   ],
   "source": [
    "# entropy is maximal here because all outcomes are equiprobable - we don't know nothing which has high chance to come.\n",
    "\n",
    "x = [0.2, 0.2, 0.2, 0.2, 0.2]\n",
    "\n",
    "bar_plot(x)\n",
    "\n",
    "entropy(x)"
   ]
  },
  {
   "cell_type": "code",
   "execution_count": 10,
   "metadata": {},
   "outputs": [
    {
     "data": {
      "text/plain": [
       "2.2464393446710154"
      ]
     },
     "execution_count": 10,
     "metadata": {},
     "output_type": "execute_result"
    },
    {
     "data": {
      "image/png": "[encoded data removed]",
      "text/plain": [
       "<Figure size 432x288 with 1 Axes>"
      ]
     },
     "metadata": {
      "needs_background": "light"
     },
     "output_type": "display_data"
    }
   ],
   "source": [
    "x = [0.1, 0.2, 0.2, 0.2, 0.3]\n",
    "\n",
    "bar_plot(x)\n",
    "\n",
    "entropy(x)"
   ]
  },
  {
   "cell_type": "code",
   "execution_count": 11,
   "metadata": {},
   "outputs": [
    {
     "data": {
      "text/plain": [
       "2.170950594454669"
      ]
     },
     "execution_count": 11,
     "metadata": {},
     "output_type": "execute_result"
    },
    {
     "data": {
      "image/png": "[encoded data removed]",
      "text/plain": [
       "<Figure size 432x288 with 1 Axes>"
      ]
     },
     "metadata": {
      "needs_background": "light"
     },
     "output_type": "display_data"
    }
   ],
   "source": [
    "x = [0.1, 0.1, 0.2, 0.3, 0.3]\n",
    "\n",
    "bar_plot(x)\n",
    "\n",
    "entropy(x)"
   ]
  },
  {
   "cell_type": "markdown",
   "metadata": {},
   "source": [
    "<b><big>Cross-Entropy</big></b>\n",
    "<br /><br />\n",
    "Let $p(X)$ and $q(X)$ be two probability mass functions over a same set of events.\n",
    "<br /><br />\n",
    "<b>Cross Entropy</b> between distributions $p$ and $q$ is defined as following expectation:<br /><br />\n",
    "$H(p, q)=\\mathbb{E}_p[I_q(X)]=-\\sum_{i=1}^{n}p(x_i)logq(x_i)$   ($x_i$ are possible values of $X$)\n",
    "<br /><br />\n",
    "\n",
    "Note that, $p==q$ implies $H(p, q)=H(p)=H(q)$, i.e. cross-entropy becomes just entropy.\n",
    "\n",
    "<br /><br />\n",
    "\n",
    "Lets see examples:"
   ]
  },
  {
   "cell_type": "code",
   "execution_count": 12,
   "metadata": {},
   "outputs": [],
   "source": [
    "def cross_entropy(p, q):\n",
    "    return -np.sum(p * np.log2(q))"
   ]
  },
  {
   "cell_type": "code",
   "execution_count": 13,
   "metadata": {},
   "outputs": [
    {
     "data": {
      "text/plain": [
       "True"
      ]
     },
     "execution_count": 13,
     "metadata": {},
     "output_type": "execute_result"
    },
    {
     "data": {
      "image/png": "[encoded data removed]",
      "text/plain": [
       "<Figure size 432x288 with 1 Axes>"
      ]
     },
     "metadata": {
      "needs_background": "light"
     },
     "output_type": "display_data"
    }
   ],
   "source": [
    "p = [0.2, 0.2, 0.2, 0.2, 0.2]\n",
    "\n",
    "bar_plot(p)\n",
    "\n",
    "cross_entropy(p, p) == entropy(p)"
   ]
  },
  {
   "cell_type": "code",
   "execution_count": 14,
   "metadata": {},
   "outputs": [
    {
     "data": {
      "image/png": "[encoded data removed]",
      "text/plain": [
       "<Figure size 432x288 with 1 Axes>"
      ]
     },
     "metadata": {
      "needs_background": "light"
     },
     "output_type": "display_data"
    },
    {
     "data": {
      "image/png": "[encoded data removed]",
      "text/plain": [
       "<Figure size 432x288 with 1 Axes>"
      ]
     },
     "metadata": {
      "needs_background": "light"
     },
     "output_type": "display_data"
    }
   ],
   "source": [
    "eps = 1e-2\n",
    "p = [0.2, 0.2, 0.2, 0.2, 0.2]\n",
    "q = [0.2-eps, 0.2+eps, 0.2, 0.2, 0.2]\n",
    "\n",
    "\n",
    "bar_plot(p)\n",
    "plt.show()\n",
    "bar_plot(q)"
   ]
  },
  {
   "cell_type": "code",
   "execution_count": 15,
   "metadata": {},
   "outputs": [
    {
     "data": {
      "text/plain": [
       "0.0007222507104756026"
      ]
     },
     "execution_count": 15,
     "metadata": {},
     "output_type": "execute_result"
    }
   ],
   "source": [
    "abs(cross_entropy(p, q) - entropy(p))"
   ]
  },
  {
   "cell_type": "code",
   "execution_count": 16,
   "metadata": {},
   "outputs": [
    {
     "data": {
      "image/png": "[encoded data removed]",
      "text/plain": [
       "<Figure size 432x288 with 1 Axes>"
      ]
     },
     "metadata": {
      "needs_background": "light"
     },
     "output_type": "display_data"
    },
    {
     "data": {
      "image/png": "[encoded data removed]",
      "text/plain": [
       "<Figure size 432x288 with 1 Axes>"
      ]
     },
     "metadata": {
      "needs_background": "light"
     },
     "output_type": "display_data"
    }
   ],
   "source": [
    "eps = 1e-1\n",
    "p = [0.2, 0.2, 0.2, 0.2, 0.2]\n",
    "q = [0.2-eps, 0.2+eps, 0.2, 0.2, 0.2]\n",
    "\n",
    "\n",
    "bar_plot(p)\n",
    "plt.show()\n",
    "bar_plot(q)"
   ]
  },
  {
   "cell_type": "code",
   "execution_count": 17,
   "metadata": {},
   "outputs": [
    {
     "data": {
      "text/plain": [
       "0.08300749985576905"
      ]
     },
     "execution_count": 17,
     "metadata": {},
     "output_type": "execute_result"
    }
   ],
   "source": [
    "abs(cross_entropy(p, q) - entropy(p))"
   ]
  },
  {
   "cell_type": "code",
   "execution_count": 18,
   "metadata": {},
   "outputs": [
    {
     "data": {
      "image/png": "[encoded data removed]",
      "text/plain": [
       "<Figure size 432x288 with 1 Axes>"
      ]
     },
     "metadata": {
      "needs_background": "light"
     },
     "output_type": "display_data"
    },
    {
     "data": {
      "image/png": "[encoded data removed]",
      "text/plain": [
       "<Figure size 432x288 with 1 Axes>"
      ]
     },
     "metadata": {
      "needs_background": "light"
     },
     "output_type": "display_data"
    }
   ],
   "source": [
    "eps = 1e-2\n",
    "p = [0.2, 0.2, 0.2, 0.2, 0.2]\n",
    "q = [0.01, 0.09, 0.1, 0.3, 0.5]\n",
    "\n",
    "\n",
    "bar_plot(p)\n",
    "plt.show()\n",
    "bar_plot(q)"
   ]
  },
  {
   "cell_type": "code",
   "execution_count": 19,
   "metadata": {},
   "outputs": [
    {
     "data": {
      "text/plain": [
       "0.9134081185447793"
      ]
     },
     "execution_count": 19,
     "metadata": {},
     "output_type": "execute_result"
    }
   ],
   "source": [
    "abs(cross_entropy(p, q) - entropy(p))"
   ]
  },
  {
   "cell_type": "markdown",
   "metadata": {},
   "source": [
    "<b>Intuition:</b> Cross entropy of \"similar\" distributions is smaller, and for \"dissimilar\" - larger\n",
    "<br /><br />\n",
    "It can be thought as a distance measure between distributions, it isn't a valid metric though as shown below."
   ]
  },
  {
   "cell_type": "code",
   "execution_count": null,
   "metadata": {},
   "outputs": [],
   "source": [
    "# H(p, q) != H(q, p)\n",
    "cross_entropy(q, p) == cross_entropy(p, q)"
   ]
  },
  {
   "cell_type": "markdown",
   "metadata": {},
   "source": [
    "Cross entropy has many applications in <b>Machine Learning</b>, for example, it is used to measure similarity between predictions and ground-truth labels (loss function)."
   ]
  },
  {
   "cell_type": "markdown",
   "metadata": {},
   "source": [
    "<b><big>Kullback-Leibler (KL) Divergence</big></b>\n",
    "<br /><br />\n",
    "Let $p(X)$ and $q(X)$ be two probability mass functions over a same set of events.\n",
    "<br /><br />\n",
    "<b>Kullback-Leibler divergence</b> between distributions $p$ and $q$ is defined as following expectation:<br /><br />\n",
    "$KL(p, q)=\\mathbb{E}_p[log\\frac{p(X)}{q(X)}]=\\sum_{i=1}^{n}p(x_i)log\\frac{p(x_i)}{q(x_i)}$   ($x_i$ are possible values of $X$)\n",
    "<br /><br />\n",
    "\n",
    "Note that, the above formula is valid where $q(x)\\neq0$ or both $p(x)=q(x)=0$ Otherwise, $KL(p, q)=\\infty$<br /><br />\n",
    "\n",
    "Also, if $p=q$, $KL(p, q)=0$\n",
    "\n",
    "<br /><br />\n",
    "\n",
    "There is a relation between <b>Entropy</b>, <b>Cross-Entropy</b> and <b>KL divergence:</b><br /><br />\n",
    "    \n",
    "$H(p, q)=H(P)+KL(p, q)$   \n",
    "\n",
    "<br /><br /> \n",
    "\n",
    "Some final notes:\n",
    "<ul>\n",
    "    <li>Similarly to Cross-Entropy, KL divergence is used in Statistics and Machine Learning to measure similarity between probability distributions.</li>\n",
    "    <li>KL Divergence is used as a loss function in approximate variational inference - powerful unsupervised technique in ML to learn complex distributions</li>\n",
    "    \n",
    "</ul>"
   ]
  }
 ],
 "metadata": {
  "kernelspec": {
   "display_name": "Python 3",
   "language": "python",
   "name": "python3"
  },
  "language_info": {
   "codemirror_mode": {
    "name": "ipython",
    "version": 3
   },
   "file_extension": ".py",
   "mimetype": "text/x-python",
   "name": "python",
   "nbconvert_exporter": "python",
   "pygments_lexer": "ipython3",
   "version": "3.7.5"
  }
 },
 "nbformat": 4,
 "nbformat_minor": 2
}
